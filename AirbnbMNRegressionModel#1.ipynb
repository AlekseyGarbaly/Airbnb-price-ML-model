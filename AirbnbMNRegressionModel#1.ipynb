{
 "cells": [
  {
   "cell_type": "code",
   "execution_count": 1,
   "metadata": {},
   "outputs": [
    {
     "name": "stdout",
     "output_type": "stream",
     "text": [
      "Dataset shape before drop: (6711, 8)\n",
      "Dataset shape after drop: (4268, 8)\n",
      "X: (4268, 7)\n",
      "y: (4268,)\n",
      "\u001b[1mX column values:\u001b[0m [  3.   5.   1.   1. 200. 120. 228.]\n",
      "X_sig shape: (4268, 8)\n"
     ]
    }
   ],
   "source": [
    "#This regression model only has numerical colums, this model  is the most accurate regression mode\n",
    "# 'cancellation policy' & 'bathrooms' & 'minimum nights' are deleted\n",
    "\n",
    "import numpy as np\n",
    "import matplotlib.pyplot as plt\n",
    "import pandas as pd\n",
    "\n",
    "import warnings\n",
    "warnings.simplefilter(action='ignore', category=FutureWarning)    #removes all red warnings\n",
    "\n",
    "class color:           # lets me bold text\n",
    "   BOLD = '\\033[1m'\n",
    "   UNDERLINE = '\\033[4m'\n",
    "   END = '\\033[0m'\n",
    "\n",
    "#loading the dataset\n",
    "dataset = pd.read_csv('AirbnbMNdata-Regression.csv')\n",
    "dataset = dataset.drop(['host_is_superhost','host_identity_verified','neighbourhood_cleansed','property_type','room_type',\n",
    "                        'instant_bookable','cancellation_policy','minimum_nights','bathrooms'],axis=1)\n",
    "dataset[\"beds\"] = dataset[\"beds\"].replace(0,1)     #All beds with 0 have some sort of bed listed\n",
    "print(\"Dataset shape before drop:\", dataset.shape)\n",
    "\n",
    "dataset = dataset.dropna(axis=0)     # Most of the dropped rows are from security deposit\n",
    "print(\"Dataset shape after drop:\", dataset.shape)\n",
    "\n",
    "X = dataset.values\n",
    "X = np.delete(X,4, axis = 1)\n",
    "y = dataset.iloc[:,4].values\n",
    "print(\"X:\", X.shape)\n",
    "print(\"y:\", y.shape)\n",
    "print(color.BOLD+\"X column values:\"+color.END, X[0,:])\n",
    "\n",
    "#Backward Elimination \n",
    "import statsmodels.api as sm\n",
    "X = np.append(arr=np.ones((4268,1)).astype(int), values=X, axis=1)\n",
    "\n",
    "X_sig = X[:,[0,1,2,3,4,5,6,7]]\n",
    "\n",
    "obj_OLS = sm.OLS(endog = y, exog = X_sig).fit() \n",
    "obj_OLS.summary()\n",
    "\n",
    "print(\"X_sig shape:\", X_sig.shape)"
   ]
  },
  {
   "cell_type": "code",
   "execution_count": 2,
   "metadata": {},
   "outputs": [
    {
     "data": {
      "image/png": "[encoded data removed]",
      "text/plain": [
       "<Figure size 432x288 with 1 Axes>"
      ]
     },
     "metadata": {
      "needs_background": "light"
     },
     "output_type": "display_data"
    }
   ],
   "source": [
    "# Check for skewness amonst continuous data\n",
    "plt.hist(X_sig[:,7], bins = 20, align='mid')\n",
    "plt.show()"
   ]
  },
  {
   "cell_type": "code",
   "execution_count": 3,
   "metadata": {},
   "outputs": [
    {
     "name": "stdout",
     "output_type": "stream",
     "text": [
      "(2987, 8) (1281, 8) (2987,) (1281,)\n"
     ]
    }
   ],
   "source": [
    "#Splitting the data into Training Set and Test Set \n",
    "from sklearn.model_selection import train_test_split\n",
    "X_train, X_test, y_train, y_test = train_test_split(X_sig,y,test_size=0.3,random_state=0)\n",
    "\n",
    "#Normalizing all features that are skewed\n",
    "from sklearn.preprocessing import StandardScaler\n",
    "sc_X = StandardScaler()\n",
    "X_train[:,[1,2,3,4,5,6,7]] = sc_X.fit_transform(X_train[:,[1,2,3,4,5,6,7]])\n",
    "X_test[:,[1,2,3,4,5,6,7]] = sc_X.transform(X_test[:,[1,2,3,4,5,6,7]]) \n",
    "print(X_train.shape,X_test.shape,y_train.shape,y_test.shape)"
   ]
  },
  {
   "cell_type": "code",
   "execution_count": 13,
   "metadata": {},
   "outputs": [
    {
     "name": "stdout",
     "output_type": "stream",
     "text": [
      "\u001b[1mRandom Forest\u001b[0m\n",
      "K-Fold Model Accuracy: 0.553\n",
      "mse: 454772.453\n",
      "rmse: 674.368\n",
      "score: 0.702\n",
      "\u001b[1mLinear Regression\u001b[0m\n",
      "K-Fold Model Accuracy: 0.311\n",
      "\u001b[1mMultiple Linear Regression\u001b[0m\n",
      "K-Fold Model Accuracy: 0.311\n",
      "\u001b[1mPolynomial Regression\u001b[0m\n"
     ]
    },
    {
     "ename": "ValueError",
     "evalue": "Classification metrics can't handle a mix of multiclass and continuous targets",
     "output_type": "error",
     "traceback": [
      "\u001b[1;31m---------------------------------------------------------------------------\u001b[0m",
      "\u001b[1;31mValueError\u001b[0m                                Traceback (most recent call last)",
      "\u001b[1;32m<ipython-input-13-60404ad3f0e3>\u001b[0m in \u001b[0;36m<module>\u001b[1;34m\u001b[0m\n\u001b[0;32m     61\u001b[0m \u001b[1;31m#K-Fold Cross Validation\u001b[0m\u001b[1;33m\u001b[0m\u001b[1;33m\u001b[0m\u001b[1;33m\u001b[0m\u001b[0m\n\u001b[0;32m     62\u001b[0m \u001b[1;32mfrom\u001b[0m \u001b[0msklearn\u001b[0m\u001b[1;33m.\u001b[0m\u001b[0mmodel_selection\u001b[0m \u001b[1;32mimport\u001b[0m \u001b[0mcross_val_score\u001b[0m\u001b[1;33m\u001b[0m\u001b[1;33m\u001b[0m\u001b[0m\n\u001b[1;32m---> 63\u001b[1;33m \u001b[0mmodelAccuracies\u001b[0m \u001b[1;33m=\u001b[0m \u001b[0mcross_val_score\u001b[0m\u001b[1;33m(\u001b[0m\u001b[0mestimator\u001b[0m\u001b[1;33m=\u001b[0m\u001b[0mprObj\u001b[0m\u001b[1;33m,\u001b[0m \u001b[0mX\u001b[0m\u001b[1;33m=\u001b[0m\u001b[0mX_train\u001b[0m\u001b[1;33m,\u001b[0m \u001b[0my\u001b[0m\u001b[1;33m=\u001b[0m\u001b[0my_train\u001b[0m\u001b[1;33m,\u001b[0m \u001b[0mcv\u001b[0m\u001b[1;33m=\u001b[0m\u001b[1;36m10\u001b[0m\u001b[1;33m,\u001b[0m \u001b[0mscoring\u001b[0m\u001b[1;33m=\u001b[0m\u001b[1;34m\"accuracy\"\u001b[0m\u001b[1;33m)\u001b[0m\u001b[1;33m\u001b[0m\u001b[1;33m\u001b[0m\u001b[0m\n\u001b[0m\u001b[0;32m     64\u001b[0m \u001b[0mprint\u001b[0m\u001b[1;33m(\u001b[0m\u001b[1;34m'K-Fold Model Accuracy: %.3f'\u001b[0m \u001b[1;33m%\u001b[0m \u001b[0mmodelAccuracies\u001b[0m\u001b[1;33m.\u001b[0m\u001b[0mmean\u001b[0m\u001b[1;33m(\u001b[0m\u001b[1;33m)\u001b[0m\u001b[1;33m)\u001b[0m\u001b[1;33m\u001b[0m\u001b[1;33m\u001b[0m\u001b[0m\n",
      "\u001b[1;32mD:\\Python\\Anaconda\\lib\\site-packages\\sklearn\\model_selection\\_validation.py\u001b[0m in \u001b[0;36mcross_val_score\u001b[1;34m(estimator, X, y, groups, scoring, cv, n_jobs, verbose, fit_params, pre_dispatch, error_score)\u001b[0m\n\u001b[0;32m    387\u001b[0m                                 \u001b[0mfit_params\u001b[0m\u001b[1;33m=\u001b[0m\u001b[0mfit_params\u001b[0m\u001b[1;33m,\u001b[0m\u001b[1;33m\u001b[0m\u001b[1;33m\u001b[0m\u001b[0m\n\u001b[0;32m    388\u001b[0m                                 \u001b[0mpre_dispatch\u001b[0m\u001b[1;33m=\u001b[0m\u001b[0mpre_dispatch\u001b[0m\u001b[1;33m,\u001b[0m\u001b[1;33m\u001b[0m\u001b[1;33m\u001b[0m\u001b[0m\n\u001b[1;32m--> 389\u001b[1;33m                                 error_score=error_score)\n\u001b[0m\u001b[0;32m    390\u001b[0m     \u001b[1;32mreturn\u001b[0m \u001b[0mcv_results\u001b[0m\u001b[1;33m[\u001b[0m\u001b[1;34m'test_score'\u001b[0m\u001b[1;33m]\u001b[0m\u001b[1;33m\u001b[0m\u001b[1;33m\u001b[0m\u001b[0m\n\u001b[0;32m    391\u001b[0m \u001b[1;33m\u001b[0m\u001b[0m\n",
      "\u001b[1;32mD:\\Python\\Anaconda\\lib\\site-packages\\sklearn\\model_selection\\_validation.py\u001b[0m in \u001b[0;36mcross_validate\u001b[1;34m(estimator, X, y, groups, scoring, cv, n_jobs, verbose, fit_params, pre_dispatch, return_train_score, return_estimator, error_score)\u001b[0m\n\u001b[0;32m    229\u001b[0m             \u001b[0mreturn_times\u001b[0m\u001b[1;33m=\u001b[0m\u001b[1;32mTrue\u001b[0m\u001b[1;33m,\u001b[0m \u001b[0mreturn_estimator\u001b[0m\u001b[1;33m=\u001b[0m\u001b[0mreturn_estimator\u001b[0m\u001b[1;33m,\u001b[0m\u001b[1;33m\u001b[0m\u001b[1;33m\u001b[0m\u001b[0m\n\u001b[0;32m    230\u001b[0m             error_score=error_score)\n\u001b[1;32m--> 231\u001b[1;33m         for train, test in cv.split(X, y, groups))\n\u001b[0m\u001b[0;32m    232\u001b[0m \u001b[1;33m\u001b[0m\u001b[0m\n\u001b[0;32m    233\u001b[0m     \u001b[0mzipped_scores\u001b[0m \u001b[1;33m=\u001b[0m \u001b[0mlist\u001b[0m\u001b[1;33m(\u001b[0m\u001b[0mzip\u001b[0m\u001b[1;33m(\u001b[0m\u001b[1;33m*\u001b[0m\u001b[0mscores\u001b[0m\u001b[1;33m)\u001b[0m\u001b[1;33m)\u001b[0m\u001b[1;33m\u001b[0m\u001b[1;33m\u001b[0m\u001b[0m\n",
      "\u001b[1;32mD:\\Python\\Anaconda\\lib\\site-packages\\joblib\\parallel.py\u001b[0m in \u001b[0;36m__call__\u001b[1;34m(self, iterable)\u001b[0m\n\u001b[0;32m    919\u001b[0m             \u001b[1;31m# remaining jobs.\u001b[0m\u001b[1;33m\u001b[0m\u001b[1;33m\u001b[0m\u001b[1;33m\u001b[0m\u001b[0m\n\u001b[0;32m    920\u001b[0m             \u001b[0mself\u001b[0m\u001b[1;33m.\u001b[0m\u001b[0m_iterating\u001b[0m \u001b[1;33m=\u001b[0m \u001b[1;32mFalse\u001b[0m\u001b[1;33m\u001b[0m\u001b[1;33m\u001b[0m\u001b[0m\n\u001b[1;32m--> 921\u001b[1;33m             \u001b[1;32mif\u001b[0m \u001b[0mself\u001b[0m\u001b[1;33m.\u001b[0m\u001b[0mdispatch_one_batch\u001b[0m\u001b[1;33m(\u001b[0m\u001b[0miterator\u001b[0m\u001b[1;33m)\u001b[0m\u001b[1;33m:\u001b[0m\u001b[1;33m\u001b[0m\u001b[1;33m\u001b[0m\u001b[0m\n\u001b[0m\u001b[0;32m    922\u001b[0m                 \u001b[0mself\u001b[0m\u001b[1;33m.\u001b[0m\u001b[0m_iterating\u001b[0m \u001b[1;33m=\u001b[0m \u001b[0mself\u001b[0m\u001b[1;33m.\u001b[0m\u001b[0m_original_iterator\u001b[0m \u001b[1;32mis\u001b[0m \u001b[1;32mnot\u001b[0m \u001b[1;32mNone\u001b[0m\u001b[1;33m\u001b[0m\u001b[1;33m\u001b[0m\u001b[0m\n\u001b[0;32m    923\u001b[0m \u001b[1;33m\u001b[0m\u001b[0m\n",
      "\u001b[1;32mD:\\Python\\Anaconda\\lib\\site-packages\\joblib\\parallel.py\u001b[0m in \u001b[0;36mdispatch_one_batch\u001b[1;34m(self, iterator)\u001b[0m\n\u001b[0;32m    757\u001b[0m                 \u001b[1;32mreturn\u001b[0m \u001b[1;32mFalse\u001b[0m\u001b[1;33m\u001b[0m\u001b[1;33m\u001b[0m\u001b[0m\n\u001b[0;32m    758\u001b[0m             \u001b[1;32melse\u001b[0m\u001b[1;33m:\u001b[0m\u001b[1;33m\u001b[0m\u001b[1;33m\u001b[0m\u001b[0m\n\u001b[1;32m--> 759\u001b[1;33m                 \u001b[0mself\u001b[0m\u001b[1;33m.\u001b[0m\u001b[0m_dispatch\u001b[0m\u001b[1;33m(\u001b[0m\u001b[0mtasks\u001b[0m\u001b[1;33m)\u001b[0m\u001b[1;33m\u001b[0m\u001b[1;33m\u001b[0m\u001b[0m\n\u001b[0m\u001b[0;32m    760\u001b[0m                 \u001b[1;32mreturn\u001b[0m \u001b[1;32mTrue\u001b[0m\u001b[1;33m\u001b[0m\u001b[1;33m\u001b[0m\u001b[0m\n\u001b[0;32m    761\u001b[0m \u001b[1;33m\u001b[0m\u001b[0m\n",
      "\u001b[1;32mD:\\Python\\Anaconda\\lib\\site-packages\\joblib\\parallel.py\u001b[0m in \u001b[0;36m_dispatch\u001b[1;34m(self, batch)\u001b[0m\n\u001b[0;32m    714\u001b[0m         \u001b[1;32mwith\u001b[0m \u001b[0mself\u001b[0m\u001b[1;33m.\u001b[0m\u001b[0m_lock\u001b[0m\u001b[1;33m:\u001b[0m\u001b[1;33m\u001b[0m\u001b[1;33m\u001b[0m\u001b[0m\n\u001b[0;32m    715\u001b[0m             \u001b[0mjob_idx\u001b[0m \u001b[1;33m=\u001b[0m \u001b[0mlen\u001b[0m\u001b[1;33m(\u001b[0m\u001b[0mself\u001b[0m\u001b[1;33m.\u001b[0m\u001b[0m_jobs\u001b[0m\u001b[1;33m)\u001b[0m\u001b[1;33m\u001b[0m\u001b[1;33m\u001b[0m\u001b[0m\n\u001b[1;32m--> 716\u001b[1;33m             \u001b[0mjob\u001b[0m \u001b[1;33m=\u001b[0m \u001b[0mself\u001b[0m\u001b[1;33m.\u001b[0m\u001b[0m_backend\u001b[0m\u001b[1;33m.\u001b[0m\u001b[0mapply_async\u001b[0m\u001b[1;33m(\u001b[0m\u001b[0mbatch\u001b[0m\u001b[1;33m,\u001b[0m \u001b[0mcallback\u001b[0m\u001b[1;33m=\u001b[0m\u001b[0mcb\u001b[0m\u001b[1;33m)\u001b[0m\u001b[1;33m\u001b[0m\u001b[1;33m\u001b[0m\u001b[0m\n\u001b[0m\u001b[0;32m    717\u001b[0m             \u001b[1;31m# A job can complete so quickly than its callback is\u001b[0m\u001b[1;33m\u001b[0m\u001b[1;33m\u001b[0m\u001b[1;33m\u001b[0m\u001b[0m\n\u001b[0;32m    718\u001b[0m             \u001b[1;31m# called before we get here, causing self._jobs to\u001b[0m\u001b[1;33m\u001b[0m\u001b[1;33m\u001b[0m\u001b[1;33m\u001b[0m\u001b[0m\n",
      "\u001b[1;32mD:\\Python\\Anaconda\\lib\\site-packages\\joblib\\_parallel_backends.py\u001b[0m in \u001b[0;36mapply_async\u001b[1;34m(self, func, callback)\u001b[0m\n\u001b[0;32m    180\u001b[0m     \u001b[1;32mdef\u001b[0m \u001b[0mapply_async\u001b[0m\u001b[1;33m(\u001b[0m\u001b[0mself\u001b[0m\u001b[1;33m,\u001b[0m \u001b[0mfunc\u001b[0m\u001b[1;33m,\u001b[0m \u001b[0mcallback\u001b[0m\u001b[1;33m=\u001b[0m\u001b[1;32mNone\u001b[0m\u001b[1;33m)\u001b[0m\u001b[1;33m:\u001b[0m\u001b[1;33m\u001b[0m\u001b[1;33m\u001b[0m\u001b[0m\n\u001b[0;32m    181\u001b[0m         \u001b[1;34m\"\"\"Schedule a func to be run\"\"\"\u001b[0m\u001b[1;33m\u001b[0m\u001b[1;33m\u001b[0m\u001b[0m\n\u001b[1;32m--> 182\u001b[1;33m         \u001b[0mresult\u001b[0m \u001b[1;33m=\u001b[0m \u001b[0mImmediateResult\u001b[0m\u001b[1;33m(\u001b[0m\u001b[0mfunc\u001b[0m\u001b[1;33m)\u001b[0m\u001b[1;33m\u001b[0m\u001b[1;33m\u001b[0m\u001b[0m\n\u001b[0m\u001b[0;32m    183\u001b[0m         \u001b[1;32mif\u001b[0m \u001b[0mcallback\u001b[0m\u001b[1;33m:\u001b[0m\u001b[1;33m\u001b[0m\u001b[1;33m\u001b[0m\u001b[0m\n\u001b[0;32m    184\u001b[0m             \u001b[0mcallback\u001b[0m\u001b[1;33m(\u001b[0m\u001b[0mresult\u001b[0m\u001b[1;33m)\u001b[0m\u001b[1;33m\u001b[0m\u001b[1;33m\u001b[0m\u001b[0m\n",
      "\u001b[1;32mD:\\Python\\Anaconda\\lib\\site-packages\\joblib\\_parallel_backends.py\u001b[0m in \u001b[0;36m__init__\u001b[1;34m(self, batch)\u001b[0m\n\u001b[0;32m    547\u001b[0m         \u001b[1;31m# Don't delay the application, to avoid keeping the input\u001b[0m\u001b[1;33m\u001b[0m\u001b[1;33m\u001b[0m\u001b[1;33m\u001b[0m\u001b[0m\n\u001b[0;32m    548\u001b[0m         \u001b[1;31m# arguments in memory\u001b[0m\u001b[1;33m\u001b[0m\u001b[1;33m\u001b[0m\u001b[1;33m\u001b[0m\u001b[0m\n\u001b[1;32m--> 549\u001b[1;33m         \u001b[0mself\u001b[0m\u001b[1;33m.\u001b[0m\u001b[0mresults\u001b[0m \u001b[1;33m=\u001b[0m \u001b[0mbatch\u001b[0m\u001b[1;33m(\u001b[0m\u001b[1;33m)\u001b[0m\u001b[1;33m\u001b[0m\u001b[1;33m\u001b[0m\u001b[0m\n\u001b[0m\u001b[0;32m    550\u001b[0m \u001b[1;33m\u001b[0m\u001b[0m\n\u001b[0;32m    551\u001b[0m     \u001b[1;32mdef\u001b[0m \u001b[0mget\u001b[0m\u001b[1;33m(\u001b[0m\u001b[0mself\u001b[0m\u001b[1;33m)\u001b[0m\u001b[1;33m:\u001b[0m\u001b[1;33m\u001b[0m\u001b[1;33m\u001b[0m\u001b[0m\n",
      "\u001b[1;32mD:\\Python\\Anaconda\\lib\\site-packages\\joblib\\parallel.py\u001b[0m in \u001b[0;36m__call__\u001b[1;34m(self)\u001b[0m\n\u001b[0;32m    223\u001b[0m         \u001b[1;32mwith\u001b[0m \u001b[0mparallel_backend\u001b[0m\u001b[1;33m(\u001b[0m\u001b[0mself\u001b[0m\u001b[1;33m.\u001b[0m\u001b[0m_backend\u001b[0m\u001b[1;33m,\u001b[0m \u001b[0mn_jobs\u001b[0m\u001b[1;33m=\u001b[0m\u001b[0mself\u001b[0m\u001b[1;33m.\u001b[0m\u001b[0m_n_jobs\u001b[0m\u001b[1;33m)\u001b[0m\u001b[1;33m:\u001b[0m\u001b[1;33m\u001b[0m\u001b[1;33m\u001b[0m\u001b[0m\n\u001b[0;32m    224\u001b[0m             return [func(*args, **kwargs)\n\u001b[1;32m--> 225\u001b[1;33m                     for func, args, kwargs in self.items]\n\u001b[0m\u001b[0;32m    226\u001b[0m \u001b[1;33m\u001b[0m\u001b[0m\n\u001b[0;32m    227\u001b[0m     \u001b[1;32mdef\u001b[0m \u001b[0m__len__\u001b[0m\u001b[1;33m(\u001b[0m\u001b[0mself\u001b[0m\u001b[1;33m)\u001b[0m\u001b[1;33m:\u001b[0m\u001b[1;33m\u001b[0m\u001b[1;33m\u001b[0m\u001b[0m\n",
      "\u001b[1;32mD:\\Python\\Anaconda\\lib\\site-packages\\joblib\\parallel.py\u001b[0m in \u001b[0;36m<listcomp>\u001b[1;34m(.0)\u001b[0m\n\u001b[0;32m    223\u001b[0m         \u001b[1;32mwith\u001b[0m \u001b[0mparallel_backend\u001b[0m\u001b[1;33m(\u001b[0m\u001b[0mself\u001b[0m\u001b[1;33m.\u001b[0m\u001b[0m_backend\u001b[0m\u001b[1;33m,\u001b[0m \u001b[0mn_jobs\u001b[0m\u001b[1;33m=\u001b[0m\u001b[0mself\u001b[0m\u001b[1;33m.\u001b[0m\u001b[0m_n_jobs\u001b[0m\u001b[1;33m)\u001b[0m\u001b[1;33m:\u001b[0m\u001b[1;33m\u001b[0m\u001b[1;33m\u001b[0m\u001b[0m\n\u001b[0;32m    224\u001b[0m             return [func(*args, **kwargs)\n\u001b[1;32m--> 225\u001b[1;33m                     for func, args, kwargs in self.items]\n\u001b[0m\u001b[0;32m    226\u001b[0m \u001b[1;33m\u001b[0m\u001b[0m\n\u001b[0;32m    227\u001b[0m     \u001b[1;32mdef\u001b[0m \u001b[0m__len__\u001b[0m\u001b[1;33m(\u001b[0m\u001b[0mself\u001b[0m\u001b[1;33m)\u001b[0m\u001b[1;33m:\u001b[0m\u001b[1;33m\u001b[0m\u001b[1;33m\u001b[0m\u001b[0m\n",
      "\u001b[1;32mD:\\Python\\Anaconda\\lib\\site-packages\\sklearn\\model_selection\\_validation.py\u001b[0m in \u001b[0;36m_fit_and_score\u001b[1;34m(estimator, X, y, scorer, train, test, verbose, parameters, fit_params, return_train_score, return_parameters, return_n_test_samples, return_times, return_estimator, error_score)\u001b[0m\n\u001b[0;32m    552\u001b[0m         \u001b[0mfit_time\u001b[0m \u001b[1;33m=\u001b[0m \u001b[0mtime\u001b[0m\u001b[1;33m.\u001b[0m\u001b[0mtime\u001b[0m\u001b[1;33m(\u001b[0m\u001b[1;33m)\u001b[0m \u001b[1;33m-\u001b[0m \u001b[0mstart_time\u001b[0m\u001b[1;33m\u001b[0m\u001b[1;33m\u001b[0m\u001b[0m\n\u001b[0;32m    553\u001b[0m         \u001b[1;31m# _score will return dict if is_multimetric is True\u001b[0m\u001b[1;33m\u001b[0m\u001b[1;33m\u001b[0m\u001b[1;33m\u001b[0m\u001b[0m\n\u001b[1;32m--> 554\u001b[1;33m         \u001b[0mtest_scores\u001b[0m \u001b[1;33m=\u001b[0m \u001b[0m_score\u001b[0m\u001b[1;33m(\u001b[0m\u001b[0mestimator\u001b[0m\u001b[1;33m,\u001b[0m \u001b[0mX_test\u001b[0m\u001b[1;33m,\u001b[0m \u001b[0my_test\u001b[0m\u001b[1;33m,\u001b[0m \u001b[0mscorer\u001b[0m\u001b[1;33m,\u001b[0m \u001b[0mis_multimetric\u001b[0m\u001b[1;33m)\u001b[0m\u001b[1;33m\u001b[0m\u001b[1;33m\u001b[0m\u001b[0m\n\u001b[0m\u001b[0;32m    555\u001b[0m         \u001b[0mscore_time\u001b[0m \u001b[1;33m=\u001b[0m \u001b[0mtime\u001b[0m\u001b[1;33m.\u001b[0m\u001b[0mtime\u001b[0m\u001b[1;33m(\u001b[0m\u001b[1;33m)\u001b[0m \u001b[1;33m-\u001b[0m \u001b[0mstart_time\u001b[0m \u001b[1;33m-\u001b[0m \u001b[0mfit_time\u001b[0m\u001b[1;33m\u001b[0m\u001b[1;33m\u001b[0m\u001b[0m\n\u001b[0;32m    556\u001b[0m         \u001b[1;32mif\u001b[0m \u001b[0mreturn_train_score\u001b[0m\u001b[1;33m:\u001b[0m\u001b[1;33m\u001b[0m\u001b[1;33m\u001b[0m\u001b[0m\n",
      "\u001b[1;32mD:\\Python\\Anaconda\\lib\\site-packages\\sklearn\\model_selection\\_validation.py\u001b[0m in \u001b[0;36m_score\u001b[1;34m(estimator, X_test, y_test, scorer, is_multimetric)\u001b[0m\n\u001b[0;32m    595\u001b[0m     \"\"\"\n\u001b[0;32m    596\u001b[0m     \u001b[1;32mif\u001b[0m \u001b[0mis_multimetric\u001b[0m\u001b[1;33m:\u001b[0m\u001b[1;33m\u001b[0m\u001b[1;33m\u001b[0m\u001b[0m\n\u001b[1;32m--> 597\u001b[1;33m         \u001b[1;32mreturn\u001b[0m \u001b[0m_multimetric_score\u001b[0m\u001b[1;33m(\u001b[0m\u001b[0mestimator\u001b[0m\u001b[1;33m,\u001b[0m \u001b[0mX_test\u001b[0m\u001b[1;33m,\u001b[0m \u001b[0my_test\u001b[0m\u001b[1;33m,\u001b[0m \u001b[0mscorer\u001b[0m\u001b[1;33m)\u001b[0m\u001b[1;33m\u001b[0m\u001b[1;33m\u001b[0m\u001b[0m\n\u001b[0m\u001b[0;32m    598\u001b[0m     \u001b[1;32melse\u001b[0m\u001b[1;33m:\u001b[0m\u001b[1;33m\u001b[0m\u001b[1;33m\u001b[0m\u001b[0m\n\u001b[0;32m    599\u001b[0m         \u001b[1;32mif\u001b[0m \u001b[0my_test\u001b[0m \u001b[1;32mis\u001b[0m \u001b[1;32mNone\u001b[0m\u001b[1;33m:\u001b[0m\u001b[1;33m\u001b[0m\u001b[1;33m\u001b[0m\u001b[0m\n",
      "\u001b[1;32mD:\\Python\\Anaconda\\lib\\site-packages\\sklearn\\model_selection\\_validation.py\u001b[0m in \u001b[0;36m_multimetric_score\u001b[1;34m(estimator, X_test, y_test, scorers)\u001b[0m\n\u001b[0;32m    625\u001b[0m             \u001b[0mscore\u001b[0m \u001b[1;33m=\u001b[0m \u001b[0mscorer\u001b[0m\u001b[1;33m(\u001b[0m\u001b[0mestimator\u001b[0m\u001b[1;33m,\u001b[0m \u001b[0mX_test\u001b[0m\u001b[1;33m)\u001b[0m\u001b[1;33m\u001b[0m\u001b[1;33m\u001b[0m\u001b[0m\n\u001b[0;32m    626\u001b[0m         \u001b[1;32melse\u001b[0m\u001b[1;33m:\u001b[0m\u001b[1;33m\u001b[0m\u001b[1;33m\u001b[0m\u001b[0m\n\u001b[1;32m--> 627\u001b[1;33m             \u001b[0mscore\u001b[0m \u001b[1;33m=\u001b[0m \u001b[0mscorer\u001b[0m\u001b[1;33m(\u001b[0m\u001b[0mestimator\u001b[0m\u001b[1;33m,\u001b[0m \u001b[0mX_test\u001b[0m\u001b[1;33m,\u001b[0m \u001b[0my_test\u001b[0m\u001b[1;33m)\u001b[0m\u001b[1;33m\u001b[0m\u001b[1;33m\u001b[0m\u001b[0m\n\u001b[0m\u001b[0;32m    628\u001b[0m \u001b[1;33m\u001b[0m\u001b[0m\n\u001b[0;32m    629\u001b[0m         \u001b[1;32mif\u001b[0m \u001b[0mhasattr\u001b[0m\u001b[1;33m(\u001b[0m\u001b[0mscore\u001b[0m\u001b[1;33m,\u001b[0m \u001b[1;34m'item'\u001b[0m\u001b[1;33m)\u001b[0m\u001b[1;33m:\u001b[0m\u001b[1;33m\u001b[0m\u001b[1;33m\u001b[0m\u001b[0m\n",
      "\u001b[1;32mD:\\Python\\Anaconda\\lib\\site-packages\\sklearn\\metrics\\scorer.py\u001b[0m in \u001b[0;36m__call__\u001b[1;34m(self, estimator, X, y_true, sample_weight)\u001b[0m\n\u001b[0;32m     95\u001b[0m         \u001b[1;32melse\u001b[0m\u001b[1;33m:\u001b[0m\u001b[1;33m\u001b[0m\u001b[1;33m\u001b[0m\u001b[0m\n\u001b[0;32m     96\u001b[0m             return self._sign * self._score_func(y_true, y_pred,\n\u001b[1;32m---> 97\u001b[1;33m                                                  **self._kwargs)\n\u001b[0m\u001b[0;32m     98\u001b[0m \u001b[1;33m\u001b[0m\u001b[0m\n\u001b[0;32m     99\u001b[0m \u001b[1;33m\u001b[0m\u001b[0m\n",
      "\u001b[1;32mD:\\Python\\Anaconda\\lib\\site-packages\\sklearn\\metrics\\classification.py\u001b[0m in \u001b[0;36maccuracy_score\u001b[1;34m(y_true, y_pred, normalize, sample_weight)\u001b[0m\n\u001b[0;32m    174\u001b[0m \u001b[1;33m\u001b[0m\u001b[0m\n\u001b[0;32m    175\u001b[0m     \u001b[1;31m# Compute accuracy for each possible representation\u001b[0m\u001b[1;33m\u001b[0m\u001b[1;33m\u001b[0m\u001b[1;33m\u001b[0m\u001b[0m\n\u001b[1;32m--> 176\u001b[1;33m     \u001b[0my_type\u001b[0m\u001b[1;33m,\u001b[0m \u001b[0my_true\u001b[0m\u001b[1;33m,\u001b[0m \u001b[0my_pred\u001b[0m \u001b[1;33m=\u001b[0m \u001b[0m_check_targets\u001b[0m\u001b[1;33m(\u001b[0m\u001b[0my_true\u001b[0m\u001b[1;33m,\u001b[0m \u001b[0my_pred\u001b[0m\u001b[1;33m)\u001b[0m\u001b[1;33m\u001b[0m\u001b[1;33m\u001b[0m\u001b[0m\n\u001b[0m\u001b[0;32m    177\u001b[0m     \u001b[0mcheck_consistent_length\u001b[0m\u001b[1;33m(\u001b[0m\u001b[0my_true\u001b[0m\u001b[1;33m,\u001b[0m \u001b[0my_pred\u001b[0m\u001b[1;33m,\u001b[0m \u001b[0msample_weight\u001b[0m\u001b[1;33m)\u001b[0m\u001b[1;33m\u001b[0m\u001b[1;33m\u001b[0m\u001b[0m\n\u001b[0;32m    178\u001b[0m     \u001b[1;32mif\u001b[0m \u001b[0my_type\u001b[0m\u001b[1;33m.\u001b[0m\u001b[0mstartswith\u001b[0m\u001b[1;33m(\u001b[0m\u001b[1;34m'multilabel'\u001b[0m\u001b[1;33m)\u001b[0m\u001b[1;33m:\u001b[0m\u001b[1;33m\u001b[0m\u001b[1;33m\u001b[0m\u001b[0m\n",
      "\u001b[1;32mD:\\Python\\Anaconda\\lib\\site-packages\\sklearn\\metrics\\classification.py\u001b[0m in \u001b[0;36m_check_targets\u001b[1;34m(y_true, y_pred)\u001b[0m\n\u001b[0;32m     79\u001b[0m     \u001b[1;32mif\u001b[0m \u001b[0mlen\u001b[0m\u001b[1;33m(\u001b[0m\u001b[0my_type\u001b[0m\u001b[1;33m)\u001b[0m \u001b[1;33m>\u001b[0m \u001b[1;36m1\u001b[0m\u001b[1;33m:\u001b[0m\u001b[1;33m\u001b[0m\u001b[1;33m\u001b[0m\u001b[0m\n\u001b[0;32m     80\u001b[0m         raise ValueError(\"Classification metrics can't handle a mix of {0} \"\n\u001b[1;32m---> 81\u001b[1;33m                          \"and {1} targets\".format(type_true, type_pred))\n\u001b[0m\u001b[0;32m     82\u001b[0m \u001b[1;33m\u001b[0m\u001b[0m\n\u001b[0;32m     83\u001b[0m     \u001b[1;31m# We can't have more than one value on y_type => The set is no more needed\u001b[0m\u001b[1;33m\u001b[0m\u001b[1;33m\u001b[0m\u001b[1;33m\u001b[0m\u001b[0m\n",
      "\u001b[1;31mValueError\u001b[0m: Classification metrics can't handle a mix of multiclass and continuous targets"
     ]
    }
   ],
   "source": [
    "#######################################  Random Forest  ################################################\n",
    "\n",
    "print(color.BOLD+'Random Forest'+color.END)\n",
    "#Create and Fit a Regressor Object\n",
    "from sklearn.ensemble import RandomForestRegressor\n",
    "regObj = RandomForestRegressor(n_estimators=76,random_state=0)\n",
    "regObj.fit(X_train,y_train)\n",
    "\n",
    "#K-Fold Cross Validation\n",
    "from sklearn.model_selection import cross_val_score\n",
    "modelAccuracies = cross_val_score(estimator=regObj, X=X_train, y=y_train, cv=10)\n",
    "print('K-Fold Model Accuracy: %.3f' % modelAccuracies.mean())\n",
    "\n",
    "y_pred = regObj.predict(X_test)\n",
    "from sklearn.metrics import mean_squared_error\n",
    "mse = np.square(np.subtract(y_test, y_pred)).mean()\n",
    "print('mse: %.3f' % mse)\n",
    "print('rmse: %.3f' % (mse**(1/2)))\n",
    "\n",
    "# misclasification rate = 1- accuracy\n",
    "print('score: %.3f' % (1-regObj.score(X_test,y_test))) \n",
    "\n",
    "#######################################  Linear Regression  ################################################\n",
    "\n",
    "print(color.BOLD+'Linear Regression'+color.END)\n",
    "#Fitting Multiple Linear Regression to Training Set \n",
    "from sklearn.linear_model import LinearRegression \n",
    "lrObj = LinearRegression() \n",
    "lrObj.fit(X_train,y_train)\n",
    "\n",
    "#K-Fold Cross Validation\n",
    "from sklearn.model_selection import cross_val_score\n",
    "modelAccuracies = cross_val_score(estimator=lrObj, X=X_train, y=y_train, cv=10)\n",
    "print('K-Fold Model Accuracy: %.3f' % modelAccuracies.mean())\n",
    "\n",
    "\n",
    "#######################################  Multiple Linear Regression  ################################################\n",
    "\n",
    "print(color.BOLD+'Multiple Linear Regression'+color.END)\n",
    "#Fitting Multiple Linear Regression to Training Set \n",
    "from sklearn.linear_model import LinearRegression \n",
    "mlrObj = LinearRegression() \n",
    "mlrObj.fit(X_train,y_train)\n",
    "\n",
    "#K-Fold Cross Validation\n",
    "from sklearn.model_selection import cross_val_score\n",
    "modelAccuracies = cross_val_score(estimator=mlrObj, X=X_train, y=y_train, cv=10)\n",
    "print('K-Fold Model Accuracy: %.3f' % modelAccuracies.mean())\n",
    "\n",
    "\n",
    "#######################################  Polynomial Regression  ################################################\n",
    "\n",
    "print(color.BOLD+'Polynomial Regression'+color.END)\n",
    "#Polynomial Regression \n",
    "from sklearn.preprocessing import PolynomialFeatures \n",
    "polyFeatureObj = PolynomialFeatures(degree=1) \n",
    "X_poly = polyFeatureObj.fit_transform(X_train) \n",
    "prObj = LinearRegression() \n",
    "prObj.fit(X_poly, y_train)\n",
    "\n",
    "#K-Fold Cross Validation\n",
    "from sklearn.model_selection import cross_val_score\n",
    "modelAccuracies = cross_val_score(estimator=prObj, X=X_train, y=y_train, cv=10)\n",
    "print('K-Fold Model Accuracy: %.3f' % modelAccuracies.mean())"
   ]
  },
  {
   "cell_type": "code",
   "execution_count": 14,
   "metadata": {},
   "outputs": [
    {
     "name": "stdout",
     "output_type": "stream",
     "text": [
      "441.8079158589664\n",
      "174.8815789473684\n"
     ]
    }
   ],
   "source": [
    "print(y_pred.mean())\n",
    "print(np.median(y_pred))"
   ]
  },
  {
   "cell_type": "code",
   "execution_count": 11,
   "metadata": {},
   "outputs": [
    {
     "data": {
      "image/png": "[encoded data removed]",
      "text/plain": [
       "<Figure size 432x288 with 1 Axes>"
      ]
     },
     "metadata": {
      "needs_background": "light"
     },
     "output_type": "display_data"
    }
   ],
   "source": [
    "# Check for skewness amonst continuous data\n",
    "plt.hist(y_pred, bins = 20, align='mid')\n",
    "plt.show()"
   ]
  },
  {
   "cell_type": "code",
   "execution_count": 8,
   "metadata": {},
   "outputs": [
    {
     "name": "stdout",
     "output_type": "stream",
     "text": [
      "\u001b[1m\n",
      "Random Forest model - Grid Search\u001b[0m\n",
      "{'criterion': 'mae', 'n_estimators': 133}\n",
      "0.589\n"
     ]
    }
   ],
   "source": [
    "#######################################  Random Forest - Grid Search  ################################################\n",
    "\n",
    "print(color.BOLD+'\\nRandom Forest model - Grid Search'+color.END)\n",
    "from sklearn.ensemble import RandomForestRegressor\n",
    "regObj = RandomForestRegressor(random_state=0)\n",
    "\n",
    "grid_param = {  \n",
    "    'n_estimators': [132,133,134],\n",
    "    'criterion': ['mse', 'mae'],\n",
    "}\n",
    "\n",
    "from sklearn.model_selection import GridSearchCV\n",
    "gd_sr = GridSearchCV(estimator=regObj, param_grid=grid_param, cv=5, n_jobs=-1)\n",
    "gd_sr.fit(X_train, y_train) \n",
    "print(gd_sr.best_params_)  \n",
    "print('%.3f' % gd_sr.best_score_)"
   ]
  },
  {
   "cell_type": "code",
   "execution_count": 10,
   "metadata": {},
   "outputs": [
    {
     "name": "stdout",
     "output_type": "stream",
     "text": [
      "\u001b[1mRandom Forest\u001b[0m\n",
      "K-Fold Model Accuracy: 0.556\n"
     ]
    }
   ],
   "source": [
    "print(color.BOLD+'Random Forest'+color.END)\n",
    "#Create and Fit a Regressor Object\n",
    "from sklearn.ensemble import RandomForestRegressor\n",
    "regObj = RandomForestRegressor(n_estimators=133,random_state=0, criterion='mae')\n",
    "regObj.fit(X_train,y_train)\n",
    "\n",
    "#K-Fold Cross Validation\n",
    "from sklearn.model_selection import cross_val_score\n",
    "modelAccuracies = cross_val_score(estimator=regObj, X=X_train, y=y_train, cv=10)\n",
    "print('K-Fold Model Accuracy: %.3f' % modelAccuracies.mean())"
   ]
  },
  {
   "cell_type": "code",
   "execution_count": 28,
   "metadata": {},
   "outputs": [
    {
     "name": "stdout",
     "output_type": "stream",
     "text": [
      "X_train shape after PCA:  (2987, 6)\n"
     ]
    }
   ],
   "source": [
    "#######################################  Apply PCA  ################################################\n",
    "\n",
    "#Splitting the data into Training Set and Test Set \n",
    "from sklearn.model_selection import train_test_split\n",
    "X_train, X_test, y_train, y_test = train_test_split(X_sig,y,test_size=0.3,random_state=0)\n",
    "\n",
    "#Normalizing all features that are skewed\n",
    "from sklearn.preprocessing import StandardScaler\n",
    "sc_X = StandardScaler()\n",
    "X_train[:,[1,2,3,4,5]] = sc_X.fit_transform(X_train[:,[1,2,3,4,5]])\n",
    "X_test[:,[1,2,3,4,5]] = sc_X.transform(X_test[:,[1,2,3,4,5]]) \n",
    "#Applying PCA\n",
    "from sklearn.decomposition import PCA\n",
    "pcaObj = PCA(n_components=6,random_state=0)       #6 components is optimal\n",
    "X_train = pcaObj.fit_transform(X_train)\n",
    "X_test = pcaObj.transform(X_test)\n",
    "components_variance = pcaObj.explained_variance_ratio_\n",
    "\n",
    "print('X_train shape after PCA: ', X_train.shape)"
   ]
  },
  {
   "cell_type": "code",
   "execution_count": 6,
   "metadata": {},
   "outputs": [
    {
     "name": "stdout",
     "output_type": "stream",
     "text": [
      "\u001b[1mRandom Forest\u001b[0m\n",
      "K-Fold Model Accuracy: 0.552\n",
      "\u001b[1mLinear Regression\u001b[0m\n",
      "K-Fold Model Accuracy: 0.311\n",
      "\u001b[1mMultiple Linear Regression\u001b[0m\n",
      "K-Fold Model Accuracy: 0.311\n",
      "\u001b[1mPolynomial Regression\u001b[0m\n",
      "K-Fold Model Accuracy: 0.311\n"
     ]
    }
   ],
   "source": [
    "#######################################  Random Forest  ################################################\n",
    "\n",
    "print(color.BOLD+'Random Forest'+color.END)\n",
    "#Create and Fit a Regressor Object\n",
    "from sklearn.ensemble import RandomForestRegressor\n",
    "regObj = RandomForestRegressor(n_estimators=76,random_state=0)\n",
    "regObj.fit(X_train,y_train)\n",
    "\n",
    "#K-Fold Cross Validation\n",
    "from sklearn.model_selection import cross_val_score\n",
    "modelAccuracies = cross_val_score(estimator=regObj, X=X_train, y=y_train, cv=10)\n",
    "print('K-Fold Model Accuracy: %.3f' % modelAccuracies.mean())\n",
    "\n",
    "\n",
    "#######################################  Linear Regression  ################################################\n",
    "\n",
    "print(color.BOLD+'Linear Regression'+color.END)\n",
    "#Fitting Multiple Linear Regression to Training Set \n",
    "from sklearn.linear_model import LinearRegression \n",
    "lrObj = LinearRegression() \n",
    "lrObj.fit(X_train,y_train)\n",
    "\n",
    "#K-Fold Cross Validation\n",
    "from sklearn.model_selection import cross_val_score\n",
    "modelAccuracies = cross_val_score(estimator=lrObj, X=X_train, y=y_train, cv=10)\n",
    "print('K-Fold Model Accuracy: %.3f' % modelAccuracies.mean())\n",
    "\n",
    "\n",
    "#######################################  Multiple Linear Regression  ################################################\n",
    "\n",
    "print(color.BOLD+'Multiple Linear Regression'+color.END)\n",
    "#Fitting Multiple Linear Regression to Training Set \n",
    "from sklearn.linear_model import LinearRegression \n",
    "mlrObj = LinearRegression() \n",
    "mlrObj.fit(X_train,y_train)\n",
    "\n",
    "#K-Fold Cross Validation\n",
    "from sklearn.model_selection import cross_val_score\n",
    "modelAccuracies = cross_val_score(estimator=mlrObj, X=X_train, y=y_train, cv=10)\n",
    "print('K-Fold Model Accuracy: %.3f' % modelAccuracies.mean())\n",
    "\n",
    "\n",
    "#######################################  Polynomial Regression  ################################################\n",
    "\n",
    "print(color.BOLD+'Polynomial Regression'+color.END)\n",
    "#Polynomial Regression \n",
    "from sklearn.preprocessing import PolynomialFeatures \n",
    "polyFeatureObj = PolynomialFeatures(degree=1) \n",
    "X_poly = polyFeatureObj.fit_transform(X_train) \n",
    "prObj = LinearRegression() \n",
    "prObj.fit(X_poly, y_train)\n",
    "\n",
    "#K-Fold Cross Validation\n",
    "from sklearn.model_selection import cross_val_score\n",
    "modelAccuracies = cross_val_score(estimator=prObj, X=X_train, y=y_train, cv=10)\n",
    "print('K-Fold Model Accuracy: %.3f' % modelAccuracies.mean())"
   ]
  },
  {
   "cell_type": "code",
   "execution_count": 33,
   "metadata": {},
   "outputs": [
    {
     "name": "stdout",
     "output_type": "stream",
     "text": [
      "\u001b[1m\n",
      "Random Forest model - Grid Search\u001b[0m\n",
      "{'criterion': 'mae', 'n_estimators': 161}\n",
      "0.565\n"
     ]
    }
   ],
   "source": [
    "#######################################  Random Forest - Grid Search  ################################################\n",
    "\n",
    "print(color.BOLD+'\\nRandom Forest model - Grid Search'+color.END)\n",
    "from sklearn.ensemble import RandomForestRegressor\n",
    "regObj = RandomForestRegressor(random_state=0)\n",
    "\n",
    "grid_param = {  \n",
    "    'n_estimators': [155,161,165],\n",
    "    'criterion': ['mse','mae']\n",
    "}\n",
    "\n",
    "from sklearn.model_selection import GridSearchCV\n",
    "gd_sr = GridSearchCV(estimator=regObj, param_grid=grid_param, cv=5, n_jobs=-1)\n",
    "gd_sr.fit(X_train, y_train) \n",
    "print(gd_sr.best_params_)  \n",
    "print('%.3f' % gd_sr.best_score_)"
   ]
  },
  {
   "cell_type": "code",
   "execution_count": 34,
   "metadata": {},
   "outputs": [
    {
     "name": "stdout",
     "output_type": "stream",
     "text": [
      "\u001b[1mRandom Forest\u001b[0m\n",
      "K-Fold Model Accuracy: 0.552\n"
     ]
    }
   ],
   "source": [
    "print(color.BOLD+'Random Forest'+color.END)\n",
    "#Create and Fit a Regressor Object\n",
    "from sklearn.ensemble import RandomForestRegressor\n",
    "regObj = RandomForestRegressor(n_estimators=161,random_state=0, criterion='mae')\n",
    "regObj.fit(X_train,y_train)\n",
    "\n",
    "#K-Fold Cross Validation\n",
    "from sklearn.model_selection import cross_val_score\n",
    "modelAccuracies = cross_val_score(estimator=regObj, X=X_train, y=y_train, cv=10)\n",
    "print('K-Fold Model Accuracy: %.3f' % modelAccuracies.mean())"
   ]
  },
  {
   "cell_type": "code",
   "execution_count": 7,
   "metadata": {},
   "outputs": [
    {
     "data": {
      "image/png": "[encoded data removed]",
      "text/plain": [
       "<Figure size 432x288 with 2 Axes>"
      ]
     },
     "metadata": {
      "needs_background": "light"
     },
     "output_type": "display_data"
    },
    {
     "name": "stdout",
     "output_type": "stream",
     "text": [
      "X_train shape after Kernel PCA:  (2987, 19)\n"
     ]
    }
   ],
   "source": [
    "#######################################  Apply Kernel PCA  ################################################\n",
    "# When I put the kernel PCA through a loop, I judge its accuracy based on the most accurate model, in this case random forest,\n",
    "#While random forest will benefit from having many componnets (over 100), I picked n_componnets that gave good accuracy and were low\n",
    "\n",
    "#Splitting the data into Training Set and Test Set \n",
    "from sklearn.model_selection import train_test_split\n",
    "X_train, X_test, y_train, y_test = train_test_split(X_sig,y,test_size=0.3,random_state=0)\n",
    "\n",
    "#Normalizing all features that are skewed\n",
    "from sklearn.preprocessing import StandardScaler\n",
    "sc_X = StandardScaler()\n",
    "X_train[:,[1,2,3,4,5]] = sc_X.fit_transform(X_train[:,[1,2,3,4,5]])\n",
    "X_test[:,[1,2,3,4,5]] = sc_X.transform(X_test[:,[1,2,3,4,5]])  \n",
    "\n",
    "#kernel PCA\n",
    "from sklearn.decomposition import KernelPCA\n",
    "kernelPCAObj = KernelPCA(n_components=19, kernel='rbf',remove_zero_eig=True)  #for this metric\n",
    "X_train = kernelPCAObj.fit_transform(X_train)\n",
    "X_test = kernelPCAObj.transform(X_test)\n",
    "\n",
    "# Visualising the Test set results\n",
    "from matplotlib.colors import ListedColormap\n",
    "X_set, y_set = X_test, y_test\n",
    "for i, j in enumerate(np.unique(y_set)):\n",
    "    plt.scatter(X_set[y_set == j, 0], X_set[y_set == j, 1],\n",
    "                cmap='jet', label = j)\n",
    "plt.xlabel('Principle Component 1')\n",
    "plt.ylabel('')\n",
    "plt.colorbar()\n",
    "plt.show()\n",
    "print('X_train shape after Kernel PCA: ', X_train.shape)"
   ]
  },
  {
   "cell_type": "code",
   "execution_count": 8,
   "metadata": {},
   "outputs": [
    {
     "name": "stdout",
     "output_type": "stream",
     "text": [
      "\u001b[1mRandom Forest\u001b[0m\n",
      "K-Fold Model Accuracy: 0.447\n",
      "\u001b[1mLinear Regression\u001b[0m\n",
      "K-Fold Model Accuracy: 0.271\n",
      "\u001b[1mMultiple Linear Regression\u001b[0m\n",
      "K-Fold Model Accuracy: 0.271\n",
      "\u001b[1mPolynomial Regression\u001b[0m\n",
      "K-Fold Model Accuracy: 0.271\n"
     ]
    }
   ],
   "source": [
    "#######################################  Random Forest  ################################################\n",
    "\n",
    "print(color.BOLD+'Random Forest'+color.END)\n",
    "#Create and Fit a Regressor Object\n",
    "from sklearn.ensemble import RandomForestRegressor\n",
    "regObj = RandomForestRegressor(n_estimators=76,random_state=0)\n",
    "regObj.fit(X_train,y_train)\n",
    "\n",
    "#K-Fold Cross Validation\n",
    "from sklearn.model_selection import cross_val_score\n",
    "modelAccuracies = cross_val_score(estimator=regObj, X=X_train, y=y_train, cv=10)\n",
    "print('K-Fold Model Accuracy: %.3f' % modelAccuracies.mean())\n",
    "\n",
    "\n",
    "#######################################  Linear Regression  ################################################\n",
    "\n",
    "print(color.BOLD+'Linear Regression'+color.END)\n",
    "#Fitting Multiple Linear Regression to Training Set \n",
    "from sklearn.linear_model import LinearRegression \n",
    "lrObj = LinearRegression() \n",
    "lrObj.fit(X_train,y_train)\n",
    "\n",
    "#K-Fold Cross Validation\n",
    "from sklearn.model_selection import cross_val_score\n",
    "modelAccuracies = cross_val_score(estimator=lrObj, X=X_train, y=y_train, cv=10)\n",
    "print('K-Fold Model Accuracy: %.3f' % modelAccuracies.mean())\n",
    "\n",
    "\n",
    "#######################################  Multiple Linear Regression  ################################################\n",
    "\n",
    "print(color.BOLD+'Multiple Linear Regression'+color.END)\n",
    "#Fitting Multiple Linear Regression to Training Set \n",
    "from sklearn.linear_model import LinearRegression \n",
    "mlrObj = LinearRegression() \n",
    "mlrObj.fit(X_train,y_train)\n",
    "\n",
    "#K-Fold Cross Validation\n",
    "from sklearn.model_selection import cross_val_score\n",
    "modelAccuracies = cross_val_score(estimator=mlrObj, X=X_train, y=y_train, cv=10)\n",
    "print('K-Fold Model Accuracy: %.3f' % modelAccuracies.mean())\n",
    "\n",
    "\n",
    "#######################################  Polynomial Regression  ################################################\n",
    "\n",
    "print(color.BOLD+'Polynomial Regression'+color.END)\n",
    "#Polynomial Regression \n",
    "from sklearn.preprocessing import PolynomialFeatures \n",
    "polyFeatureObj = PolynomialFeatures(degree=1) \n",
    "X_poly = polyFeatureObj.fit_transform(X_train) \n",
    "prObj = LinearRegression() \n",
    "prObj.fit(X_poly, y_train)\n",
    "\n",
    "#K-Fold Cross Validation\n",
    "from sklearn.model_selection import cross_val_score\n",
    "modelAccuracies = cross_val_score(estimator=prObj, X=X_train, y=y_train, cv=10)\n",
    "print('K-Fold Model Accuracy: %.3f' % modelAccuracies.mean())"
   ]
  },
  {
   "cell_type": "code",
   "execution_count": 11,
   "metadata": {},
   "outputs": [
    {
     "name": "stdout",
     "output_type": "stream",
     "text": [
      "\u001b[1mRandom Forest in pipeline\u001b[0m\n",
      "K-Fold Model Accuracy: 0.512\n",
      "Pipeline(memory=None,\n",
      "         steps=[('standardscaler',\n",
      "                 StandardScaler(copy=True, with_mean=True, with_std=True)),\n",
      "                ('pca',\n",
      "                 PCA(copy=True, iterated_power='auto', n_components=6,\n",
      "                     random_state=0, svd_solver='auto', tol=0.0,\n",
      "                     whiten=False)),\n",
      "                ('randomforestregressor',\n",
      "                 RandomForestRegressor(bootstrap=True, criterion='mse',\n",
      "                                       max_depth=None, max_features='auto',\n",
      "                                       max_leaf_nodes=None,\n",
      "                                       min_impurity_decrease=0.0,\n",
      "                                       min_impurity_split=None,\n",
      "                                       min_samples_leaf=1, min_samples_split=2,\n",
      "                                       min_weight_fraction_leaf=0.0,\n",
      "                                       n_estimators=76, n_jobs=None,\n",
      "                                       oob_score=False, random_state=0,\n",
      "                                       verbose=0, warm_start=False))],\n",
      "         verbose=False)\n"
     ]
    }
   ],
   "source": [
    "#######################################  Pipeline  ################################################\n",
    "# Re-load the data as the first step\n",
    "# Re-split up the data as it is in the 3rd step\n",
    "\n",
    "#Creating a pipeline\n",
    "print(color.BOLD+'Random Forest in pipeline'+color.END)\n",
    "from sklearn.preprocessing import StandardScaler\n",
    "from sklearn.decomposition import PCA\n",
    "from sklearn.ensemble import RandomForestRegressor\n",
    "from sklearn.pipeline import make_pipeline\n",
    "pipe_lr = make_pipeline(StandardScaler(), PCA(n_components=6,random_state=0), RandomForestRegressor(n_estimators=76,random_state=0))\n",
    "pipe_lr.fit(X_train, y_train)\n",
    "y_pred = pipe_lr.predict(X_test)\n",
    "\n",
    "#K-Fold Cross Validation\n",
    "from sklearn.model_selection import cross_val_score\n",
    "modelAccuracies = cross_val_score(estimator=pipe_lr, X=X_train, y=y_train, cv=10)\n",
    "print('K-Fold Model Accuracy: %.3f' % modelAccuracies.mean())\n",
    "\n",
    "print(pipe_lr)"
   ]
  },
  {
   "cell_type": "code",
   "execution_count": null,
   "metadata": {},
   "outputs": [],
   "source": []
  },
  {
   "cell_type": "code",
   "execution_count": null,
   "metadata": {},
   "outputs": [],
   "source": [
    "#This is here because it would look messy if I included this in the main part\n",
    "#These are the for loops that you can use to find the optimal number of components/trees/etc\n",
    "\n",
    "#######################################  Random Forest model Find # trees  ################################################\n",
    "x_axis = np.arange(31,51)\n",
    "y_axis, tree_val = np.ones(20),np.ones((20,2))\n",
    "i = 0\n",
    "\n",
    "for trees in range(31,51):\n",
    "    #Create and Fit a Regressor Object\n",
    "    from sklearn.ensemble import RandomForestRegressor\n",
    "    regObj = RandomForestRegressor(n_estimators=trees,random_state=0)\n",
    "    regObj.fit(X_train,y_train)\n",
    "    \n",
    "    #K-Fold Cross Validation\n",
    "    from sklearn.model_selection import cross_val_score\n",
    "    modelAccuracies = cross_val_score(estimator=regObj, X=X_train, y=y_train, cv=10)\n",
    "    print('K-Fold Model Accuracy: %.3f' % modelAccuracies.mean(), trees, sep='\\t')\n",
    "    tree_val[i,0] = modelAccuracies.mean()\n",
    "    tree_val[i,1] = trees\n",
    "    y_axis[i] = modelAccuracies.mean()\n",
    "    i = i+1\n",
    "    \n",
    "print('Max Accuracy: %.3f' % np.amax(tree_val[:,0]),np.amax(tree_val[np.argmax(tree_val[:,0]),1]),sep='\\t')\n",
    "#plot the data    \n",
    "plt.scatter(x_axis,y_axis)\n",
    "plt.xlabel('trees')\n",
    "plt.ylabel('Model Accuracy')\n",
    "plt.show()\n",
    "\n",
    "\n",
    "#######################################  Kernel PCA Find # n_components  ################################################\n",
    "x_axis = np.arange(9,13)\n",
    "y_axis = np.ones(4)\n",
    "i = 0\n",
    "\n",
    "for components in range(9,13):\n",
    "    \n",
    "    #Splitting the data into Training Set and Test Set \n",
    "    from sklearn.model_selection import train_test_split\n",
    "    X_train, X_test, y_train, y_test = train_test_split(X_sig,y,test_size=0.3,random_state=0)\n",
    "\n",
    "    #Normalizing all features that are skewed\n",
    "    from sklearn.preprocessing import StandardScaler\n",
    "    sc_X = StandardScaler()\n",
    "    X_train[:,[1,2,3,4,5]] = sc_X.fit_transform(X_train[:,[1,2,3,4,5]])\n",
    "    X_test[:,[1,2,3,4,5]] = sc_X.transform(X_test[:,[1,2,3,4,5]]) \n",
    "\n",
    "    #Applying PCA\n",
    "    from sklearn.decomposition import PCA\n",
    "    pcaObj = PCA(n_components=components,random_state=0)       #Uses MLE to find the # of dimensions to keep\n",
    "    X_train = pcaObj.fit_transform(X_train)\n",
    "    X_test = pcaObj.transform(X_test)\n",
    "    components_variance = pcaObj.explained_variance_ratio_\n",
    "    \n",
    "    from sklearn.ensemble import RandomForestRegressor\n",
    "    regObj = RandomForestRegressor(n_estimators=33,random_state=0)\n",
    "    regObj.fit(X_train,y_train)\n",
    "\n",
    "    #K-Fold Cross Validation\n",
    "    from sklearn.model_selection import cross_val_score\n",
    "    modelAccuracies = cross_val_score(estimator=regObj, X=X_train, y=y_train, cv=10)\n",
    "    print('K-Fold Model Accuracy: %.3f' % modelAccuracies.mean(), components, sep='\\t')\n",
    "    y_axis[i] = modelAccuracies.mean()\n",
    "    i = i+1\n",
    "\n",
    "#plot the data    \n",
    "plt.scatter(x_axis,y_axis)\n",
    "plt.xlabel('trees')\n",
    "plt.ylabel('K-Fold Model Accuracy')\n",
    "plt.show()"
   ]
  }
 ],
 "metadata": {
  "kernelspec": {
   "display_name": "Python 3",
   "language": "python",
   "name": "python3"
  },
  "language_info": {
   "codemirror_mode": {
    "name": "ipython",
    "version": 3
   },
   "file_extension": ".py",
   "mimetype": "text/x-python",
   "name": "python",
   "nbconvert_exporter": "python",
   "pygments_lexer": "ipython3",
   "version": "3.7.3"
  }
 },
 "nbformat": 4,
 "nbformat_minor": 2
}
