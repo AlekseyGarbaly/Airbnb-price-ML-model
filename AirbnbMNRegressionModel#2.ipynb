{
 "cells": [
  {
   "cell_type": "code",
   "execution_count": 1,
   "metadata": {},
   "outputs": [
    {
     "name": "stdout",
     "output_type": "stream",
     "text": [
      "Dataset before drop: (6711, 14)\n",
      "Dataset after drop: (4268, 14)\n",
      "X: (4268, 13)\n",
      "y: (4268,)\n",
      "\u001b[1mX column values:\u001b[0m ['t' 3 't' 'high_density' 'House' 'Entire home/apt' 5 1.0 1.0 200.0 120\n",
      " 228 'f']\n"
     ]
    },
    {
     "name": "stderr",
     "output_type": "stream",
     "text": [
      "D:\\Python\\Anaconda\\lib\\site-packages\\sklearn\\preprocessing\\_encoders.py:451: DeprecationWarning: The 'categorical_features' keyword is deprecated in version 0.20 and will be removed in 0.22. You can use the ColumnTransformer instead.\n",
      "  \"use the ColumnTransformer instead.\", DeprecationWarning)\n"
     ]
    },
    {
     "name": "stdout",
     "output_type": "stream",
     "text": [
      "X shape: (4268, 13)\n",
      "y type: <class 'numpy.int64'> 235\n",
      "\u001b[1mX column values:\u001b[0m [  1.   3.   1.   0.   0.   0.   5.   1.   1. 200. 120. 228.   0.]\n",
      "X_sig shape: (4268, 12)\n",
      "\u001b[1mColumns that are kept:\n",
      "\u001b[0m host_is_superhost                          t\n",
      "host_total_listings_count                  3\n",
      "host_identity_verified                     t\n",
      "neighbourhood_cleansed          high_density\n",
      "room_type                    Entire home/apt\n",
      "bedrooms                                   1\n",
      "beds                                       1\n",
      "price                                     85\n",
      "security_deposit                         200\n",
      "maximum_nights                           120\n",
      "number_of_reviews                        228\n",
      "instant_bookable                           f\n",
      "Name: 0, dtype: object\n",
      "\u001b[1mColumns that are deleted:\n",
      "\u001b[0m property_type    House\n",
      "accommodates         5\n",
      "Name: 0, dtype: object\n"
     ]
    }
   ],
   "source": [
    "#This regression model has numerical colums and binary columns (previously categorical), this model  is the second most \n",
    "# accurate regression model by a small margin,\n",
    "\n",
    "#This variant has the 'cancellation policy' & 'bathrooms' & 'minimum nights' columns deleted\n",
    "\n",
    "import numpy as np\n",
    "import matplotlib.pyplot as plt\n",
    "import pandas as pd\n",
    "\n",
    "import warnings\n",
    "warnings.simplefilter(action='ignore', category=FutureWarning)    #removes all red warnings\n",
    "\n",
    "class color:           # lets me bold text\n",
    "   BOLD = '\\033[1m'\n",
    "   UNDERLINE = '\\033[4m'\n",
    "   END = '\\033[0m'\n",
    "\n",
    "#loading the dataset\n",
    "dataset = pd.read_csv('AirbnbMNdata-Regression.csv')\n",
    "\n",
    "#Splitting into binary categories\n",
    "dataset[\"neighbourhood_cleansed\"] = dataset[\"neighbourhood_cleansed\"].replace(['Ramsey','Hennepin'],'high_density')\n",
    "dataset[\"neighbourhood_cleansed\"] = dataset[\"neighbourhood_cleansed\"].replace(\n",
    "    ['Anoka','Dakota','Washington','Scott','Carver','Sherburne','Wright','Chisago','St. Croix','Isanti','Sibley','Le Sueur','Mille Lacs','Pierce'],'low_density')\n",
    "dataset[\"property_type\"] = dataset[\"property_type\"].replace(['Apartment','Barn','Bed and breakfast','Bungalow','Boat',\n",
    "    'Boutique hotel','Campsite','Cabin','Camper/RV','Chalet','Cottage','Condominium','Earth house','Dome house','Farm stay',\n",
    "    'Guest suite','Guesthouse','Hostel','Hotel','Houseboat','Island','Loft','Nature lodge','Plane','Resort','Serviced apartment',\n",
    "    'Tiny house','Treehouse','Townhouse','Yurt','Castle','Other','Villa'],\"everything_but_house\")    #Simplifies property type category house vs nonhouse\n",
    "dataset[\"room_type\"] = dataset[\"room_type\"].replace(['Hotel room','Shared room','Private room'],'other')\n",
    "dataset = dataset.drop(['cancellation_policy','minimum_nights','bathrooms'],axis=1)\n",
    "print(\"Dataset before drop:\", dataset.shape)\n",
    "\n",
    "dataset = dataset.dropna(axis=0)     # Most of the dropped rows are from the Review Scores Rating\n",
    "print(\"Dataset after drop:\", dataset.shape)\n",
    "\n",
    "X = dataset.values\n",
    "X = np.delete(X,9, axis = 1)\n",
    "y = dataset.iloc[:,9].values\n",
    "print(\"X:\", X.shape)\n",
    "print(\"y:\", y.shape)\n",
    "print(color.BOLD+\"X column values:\"+color.END, X[0,:])\n",
    "\n",
    "#Dealing with categorical variables\n",
    "from sklearn.preprocessing import LabelEncoder, OneHotEncoder \n",
    "labelencoder_X = LabelEncoder() \n",
    "X[:,0] = labelencoder_X.fit_transform(X[:,0])\n",
    "X[:,2] = labelencoder_X.fit_transform(X[:,2])\n",
    "X[:,3] = labelencoder_X.fit_transform(X[:,3])\n",
    "X[:,4] = labelencoder_X.fit_transform(X[:,4])\n",
    "X[:,5] = labelencoder_X.fit_transform(X[:,5])\n",
    "X[:,12] = labelencoder_X.fit_transform(X[:,12])\n",
    "onehotencoder = OneHotEncoder(categorical_features=[0]) \n",
    "X = onehotencoder.fit_transform(X).toarray()\n",
    "# Removing the extra dummy variable \n",
    "X = X[:, 1:]\n",
    "print(\"X shape:\", X.shape)\n",
    "print(\"y type:\", type(y[0]), (y[0]+y[1]))\n",
    "print(color.BOLD+\"X column values:\"+color.END, X[0,:])\n",
    "\n",
    "#Backward Elimination \n",
    "import statsmodels.api as sm\n",
    "X = np.append(arr=np.ones((4268,1)).astype(int), values=X, axis=1)\n",
    "\n",
    "X_sig = X[:,[0,1,2,3,4,5,6,7,8,9,10,11,12,13]] \n",
    "X_sig = X[:,[0,1,2,3,4,6,7,8,9,10,11,12,13]]     # Removed #5 (property type)\n",
    "X_sig = X[:,[0,1,2,3,4,6,8,9,10,11,12,13]]     # Removed #7 (accommodates)\n",
    "\n",
    "obj_OLS = sm.OLS(endog = y, exog = X_sig).fit() \n",
    "obj_OLS.summary()\n",
    "\n",
    "print(\"X_sig shape:\", X_sig.shape)\n",
    "print(color.BOLD+\"Columns that are kept:\\n\"+color.END,dataset.iloc[0,[0,1,2,3,5,7,8,9,10,11,12,13]])\n",
    "print(color.BOLD+\"Columns that are deleted:\\n\"+color.END,dataset.iloc[0,[4,6]])"
   ]
  },
  {
   "cell_type": "code",
   "execution_count": 2,
   "metadata": {},
   "outputs": [
    {
     "data": {
      "text/plain": [
       "House                   2448\n",
       "everything_but_house    1820\n",
       "Name: property_type, dtype: int64"
      ]
     },
     "execution_count": 2,
     "metadata": {},
     "output_type": "execute_result"
    }
   ],
   "source": [
    "#this tells counts how many instances there are per category\n",
    "dataset.property_type .value_counts().sort_index()"
   ]
  },
  {
   "cell_type": "code",
   "execution_count": 3,
   "metadata": {},
   "outputs": [
    {
     "data": {
      "image/png": "[encoded data removed]",
      "text/plain": [
       "<Figure size 432x288 with 1 Axes>"
      ]
     },
     "metadata": {
      "needs_background": "light"
     },
     "output_type": "display_data"
    }
   ],
   "source": [
    "# Check for skewness amonst continuous data\n",
    "plt.hist(X_sig[:,0], bins = 20, align='mid')\n",
    "plt.show()"
   ]
  },
  {
   "cell_type": "code",
   "execution_count": 2,
   "metadata": {},
   "outputs": [],
   "source": [
    "#Splitting the data into Training Set and Test Set \n",
    "from sklearn.model_selection import train_test_split\n",
    "X_train, X_test, y_train, y_test = train_test_split(X_sig,y,test_size=0.3,random_state=0)"
   ]
  },
  {
   "cell_type": "code",
   "execution_count": 3,
   "metadata": {},
   "outputs": [
    {
     "name": "stdout",
     "output_type": "stream",
     "text": [
      "(2987, 12) (1281, 12) (2987,) (1281,)\n"
     ]
    }
   ],
   "source": [
    "#Normalizing all features that are skewed\n",
    "from sklearn.preprocessing import StandardScaler\n",
    "sc_X = StandardScaler()\n",
    "X_train[:,[2,6,7,8,9,10]] = sc_X.fit_transform(X_train[:,[2,6,7,8,9,10]])\n",
    "X_test[:,[2,6,7,8,9,10]] = sc_X.transform(X_test[:,[2,6,7,8,9,10]])      #These are all skewed columns\n",
    "print(X_train.shape,X_test.shape,y_train.shape,y_test.shape)"
   ]
  },
  {
   "cell_type": "code",
   "execution_count": 4,
   "metadata": {},
   "outputs": [
    {
     "name": "stdout",
     "output_type": "stream",
     "text": [
      "\u001b[1mMultiple Linear Regression\u001b[0m\n",
      "K-Fold Model Accuracy: 0.349\n",
      "K-Fold Model Std: 0.080\n",
      "\u001b[1mRandom Forest\u001b[0m\n",
      "K-Fold Model Accuracy: 0.530\n",
      "K-Fold Model Std: 0.093\n"
     ]
    }
   ],
   "source": [
    "#######################################  Multiple Linear Regression  ################################################\n",
    "\n",
    "print(color.BOLD+'Multiple Linear Regression'+color.END)\n",
    "#Fitting Multiple Linear Regression to Training Set \n",
    "from sklearn.linear_model import LinearRegression \n",
    "mlrObj = LinearRegression() \n",
    "mlrObj.fit(X_train,y_train)\n",
    "\n",
    "#K-Fold Cross Validation\n",
    "from sklearn.model_selection import cross_val_score\n",
    "modelAccuracies = cross_val_score(estimator=mlrObj, X=X_train, y=y_train, cv=10)\n",
    "print('K-Fold Model Accuracy: %.3f' % modelAccuracies.mean())\n",
    "print('K-Fold Model Std: %.3f' % modelAccuracies.std())\n",
    "\n",
    "\n",
    "#######################################  Random Forest  ################################################\n",
    "\n",
    "print(color.BOLD+'Random Forest'+color.END)\n",
    "#Create and Fit a Regressor Object\n",
    "from sklearn.ensemble import RandomForestRegressor\n",
    "regObj = RandomForestRegressor(n_estimators=55,random_state=0)\n",
    "regObj.fit(X_train,y_train)\n",
    "\n",
    "#K-Fold Cross Validation\n",
    "from sklearn.model_selection import cross_val_score\n",
    "modelAccuracies = cross_val_score(estimator=regObj, X=X_train, y=y_train, cv=10)\n",
    "print('K-Fold Model Accuracy: %.3f' % modelAccuracies.mean())\n",
    "print('K-Fold Model Std: %.3f' % modelAccuracies.std())"
   ]
  },
  {
   "cell_type": "code",
   "execution_count": 7,
   "metadata": {},
   "outputs": [
    {
     "name": "stdout",
     "output_type": "stream",
     "text": [
      "X_train shape after PCA:  (2987, 8)\n"
     ]
    }
   ],
   "source": [
    "#######################################  Apply PCA  ################################################\n",
    "\n",
    "#Splitting the data into Training Set and Test Set \n",
    "from sklearn.model_selection import train_test_split\n",
    "X_train, X_test, y_train, y_test = train_test_split(X_sig,y,test_size=0.3,random_state=0)\n",
    "\n",
    "#Normalizing all features that are skewed\n",
    "from sklearn.preprocessing import StandardScaler\n",
    "sc_X = StandardScaler()\n",
    "X_train[:,[2,6,7,8,9,10]] = sc_X.fit_transform(X_train[:,[2,6,7,8,9,10]])\n",
    "X_test[:,[2,6,7,8,9,10]] = sc_X.transform(X_test[:,[2,6,7,8,9,10]]) \n",
    "\n",
    "#Applying PCA\n",
    "from sklearn.decomposition import PCA\n",
    "pcaObj = PCA(n_components=8,random_state=0)       #Uses 8 components\n",
    "X_train = pcaObj.fit_transform(X_train)\n",
    "X_test = pcaObj.transform(X_test)\n",
    "components_variance = pcaObj.explained_variance_ratio_\n",
    "\n",
    "\n",
    "print('X_train shape after PCA: ', X_train.shape)"
   ]
  },
  {
   "cell_type": "code",
   "execution_count": 8,
   "metadata": {},
   "outputs": [
    {
     "name": "stdout",
     "output_type": "stream",
     "text": [
      "\u001b[1mMultiple Linear Regression\u001b[0m\n",
      "K-Fold Model Accuracy: 0.349\n",
      "K-Fold Model Std: 0.081\n",
      "\u001b[1mRandom Forest\u001b[0m\n",
      "K-Fold Model Accuracy: 0.402\n",
      "K-Fold Model Std: 0.142\n"
     ]
    }
   ],
   "source": [
    "#######################################  Multiple Linear Regression  ################################################\n",
    "\n",
    "print(color.BOLD+'Multiple Linear Regression'+color.END)\n",
    "#Fitting Multiple Linear Regression to Training Set \n",
    "from sklearn.linear_model import LinearRegression \n",
    "mlrObj = LinearRegression() \n",
    "mlrObj.fit(X_train,y_train)\n",
    "\n",
    "#K-Fold Cross Validation\n",
    "from sklearn.model_selection import cross_val_score\n",
    "modelAccuracies = cross_val_score(estimator=mlrObj, X=X_train, y=y_train, cv=10)\n",
    "print('K-Fold Model Accuracy: %.3f' % modelAccuracies.mean())\n",
    "print('K-Fold Model Std: %.3f' % modelAccuracies.std())\n",
    "\n",
    "\n",
    "#######################################  Random Forest  ################################################\n",
    "\n",
    "print(color.BOLD+'Random Forest'+color.END)\n",
    "#Create and Fit a Regressor Object\n",
    "from sklearn.ensemble import RandomForestRegressor\n",
    "regObj = RandomForestRegressor(n_estimators=55,random_state=0)\n",
    "regObj.fit(X_train,y_train)\n",
    "\n",
    "#K-Fold Cross Validation\n",
    "from sklearn.model_selection import cross_val_score\n",
    "modelAccuracies = cross_val_score(estimator=regObj, X=X_train, y=y_train, cv=10)\n",
    "print('K-Fold Model Accuracy: %.3f' % modelAccuracies.mean())\n",
    "print('K-Fold Model Std: %.3f' % modelAccuracies.std())"
   ]
  },
  {
   "cell_type": "code",
   "execution_count": 9,
   "metadata": {},
   "outputs": [
    {
     "data": {
      "image/png": "[encoded data removed]",
      "text/plain": [
       "<Figure size 432x288 with 1 Axes>"
      ]
     },
     "metadata": {
      "needs_background": "light"
     },
     "output_type": "display_data"
    },
    {
     "name": "stdout",
     "output_type": "stream",
     "text": [
      "X_train shape after Kernel PCA:  (2987, 33)\n"
     ]
    }
   ],
   "source": [
    "#######################################  Apply Kernel PCA  ################################################\n",
    "\n",
    "#Splitting the data into Training Set and Test Set \n",
    "from sklearn.model_selection import train_test_split\n",
    "X_train, X_test, y_train, y_test = train_test_split(X_sig,y,test_size=0.3,random_state=0)\n",
    "\n",
    "#Normalizing all features that are skewed\n",
    "from sklearn.preprocessing import StandardScaler\n",
    "sc_X = StandardScaler()\n",
    "X_train[:,[2,6,7,8,9,10]] = sc_X.fit_transform(X_train[:,[2,6,7,8,9,10]])\n",
    "X_test[:,[2,6,7,8,9,10]] = sc_X.transform(X_test[:,[2,6,7,8,9,10]])\n",
    "\n",
    "#kernel PCA\n",
    "from sklearn.decomposition import KernelPCA\n",
    "kernelPCAObj = KernelPCA(n_components=33, kernel='rbf',remove_zero_eig=True,random_state=0)  # I obtained 33 using for loop\n",
    "X_train = kernelPCAObj.fit_transform(X_train)\n",
    "X_test = kernelPCAObj.transform(X_test)\n",
    "\n",
    "# Visualising the Test set results\n",
    "from matplotlib.colors import ListedColormap\n",
    "X_set, y_set = X_test, y_test\n",
    "for i, j in enumerate(np.unique(y_set)):\n",
    "    plt.scatter(X_set[y_set == j, 0], X_set[y_set == j, 1],\n",
    "                cmap='jet', label = j)\n",
    "plt.xlabel('Principle Component 1')\n",
    "plt.ylabel('')\n",
    "plt.show()\n",
    "print('X_train shape after Kernel PCA: ', X_train.shape)"
   ]
  },
  {
   "cell_type": "code",
   "execution_count": 10,
   "metadata": {},
   "outputs": [
    {
     "name": "stdout",
     "output_type": "stream",
     "text": [
      "\u001b[1mMultiple Linear Regression\u001b[0m\n",
      "K-Fold Model Accuracy: 0.392\n",
      "K-Fold Model Std: 0.073\n",
      "\u001b[1mRandom Forest\u001b[0m\n",
      "K-Fold Model Accuracy: 0.438\n",
      "K-Fold Model Std: 0.129\n"
     ]
    }
   ],
   "source": [
    "#######################################  Multiple Linear Regression  ################################################\n",
    "\n",
    "print(color.BOLD+'Multiple Linear Regression'+color.END)\n",
    "#Fitting Multiple Linear Regression to Training Set \n",
    "from sklearn.linear_model import LinearRegression \n",
    "mlrObj = LinearRegression() \n",
    "mlrObj.fit(X_train,y_train)\n",
    "\n",
    "#K-Fold Cross Validation\n",
    "from sklearn.model_selection import cross_val_score\n",
    "modelAccuracies = cross_val_score(estimator=mlrObj, X=X_train, y=y_train, cv=10)\n",
    "print('K-Fold Model Accuracy: %.3f' % modelAccuracies.mean())\n",
    "print('K-Fold Model Std: %.3f' % modelAccuracies.std())\n",
    "\n",
    "\n",
    "#######################################  Random Forest  ################################################\n",
    "\n",
    "print(color.BOLD+'Random Forest'+color.END)\n",
    "#Create and Fit a Regressor Object\n",
    "from sklearn.ensemble import RandomForestRegressor\n",
    "regObj = RandomForestRegressor(n_estimators=55,random_state=0)\n",
    "regObj.fit(X_train,y_train)\n",
    "\n",
    "#K-Fold Cross Validation\n",
    "from sklearn.model_selection import cross_val_score\n",
    "modelAccuracies = cross_val_score(estimator=regObj, X=X_train, y=y_train, cv=10)\n",
    "print('K-Fold Model Accuracy: %.3f' % modelAccuracies.mean())\n",
    "print('K-Fold Model Std: %.3f' % modelAccuracies.std())"
   ]
  },
  {
   "cell_type": "code",
   "execution_count": 13,
   "metadata": {},
   "outputs": [
    {
     "name": "stdout",
     "output_type": "stream",
     "text": [
      "\u001b[1mRandom Forest in pipeline\u001b[0m\n",
      "K-Fold Model Accuracy: 0.404\n",
      "Pipeline(memory=None,\n",
      "         steps=[('standardscaler',\n",
      "                 StandardScaler(copy=True, with_mean=True, with_std=True)),\n",
      "                ('pca',\n",
      "                 PCA(copy=True, iterated_power='auto', n_components=6,\n",
      "                     random_state=0, svd_solver='auto', tol=0.0,\n",
      "                     whiten=False)),\n",
      "                ('randomforestregressor',\n",
      "                 RandomForestRegressor(bootstrap=True, criterion='mse',\n",
      "                                       max_depth=None, max_features='auto',\n",
      "                                       max_leaf_nodes=None,\n",
      "                                       min_impurity_decrease=0.0,\n",
      "                                       min_impurity_split=None,\n",
      "                                       min_samples_leaf=1, min_samples_split=2,\n",
      "                                       min_weight_fraction_leaf=0.0,\n",
      "                                       n_estimators=76, n_jobs=None,\n",
      "                                       oob_score=False, random_state=0,\n",
      "                                       verbose=0, warm_start=False))],\n",
      "         verbose=False)\n"
     ]
    }
   ],
   "source": [
    "#######################################  Pipeline  ################################################\n",
    "# Re-load the data as the first step\n",
    "# Re-split up the data as it is in the 4th step\n",
    "\n",
    "#Creating a pipeline\n",
    "print(color.BOLD+'Random Forest in pipeline'+color.END)\n",
    "from sklearn.preprocessing import StandardScaler\n",
    "from sklearn.decomposition import PCA\n",
    "from sklearn.ensemble import RandomForestRegressor\n",
    "from sklearn.pipeline import make_pipeline\n",
    "pipe_lr = make_pipeline(StandardScaler(), PCA(n_components=6,random_state=0), RandomForestRegressor(n_estimators=76,random_state=0))\n",
    "pipe_lr.fit(X_train, y_train)\n",
    "y_pred = pipe_lr.predict(X_test)\n",
    "\n",
    "#K-Fold Cross Validation\n",
    "from sklearn.model_selection import cross_val_score\n",
    "modelAccuracies = cross_val_score(estimator=pipe_lr, X=X_train, y=y_train, cv=10)\n",
    "print('K-Fold Model Accuracy: %.3f' % modelAccuracies.mean())\n",
    "\n",
    "print(pipe_lr)"
   ]
  },
  {
   "cell_type": "code",
   "execution_count": null,
   "metadata": {},
   "outputs": [],
   "source": []
  },
  {
   "cell_type": "code",
   "execution_count": null,
   "metadata": {},
   "outputs": [],
   "source": [
    "#This is here because it would look messy if I included this in the main part\n",
    "#These are the for loops that you can use to find the optimal number of components/trees/etc\n",
    "\n",
    "#######################################  Random Forest model Find # trees  ################################################\n",
    "x_axis = np.arange(1,31)\n",
    "y_axis = np.ones(30)\n",
    "i = 0\n",
    "\n",
    "for trees in range(1,31):\n",
    "    #Create and Fit a Regressor Object\n",
    "    from sklearn.ensemble import RandomForestRegressor\n",
    "    regObj = RandomForestRegressor(n_estimators=trees,random_state=0)\n",
    "    regObj.fit(X_train,y_train)\n",
    "    \n",
    "    #K-Fold Cross Validation\n",
    "    from sklearn.model_selection import cross_val_score\n",
    "    modelAccuracies = cross_val_score(estimator=regObj, X=X_train, y=y_train, cv=10)\n",
    "    print('K-Fold Model Accuracy: %.3f' % modelAccuracies.mean(), trees, sep='\\t')\n",
    "    y_axis[i] = modelAccuracies.mean()\n",
    "    i = i+1\n",
    "\n",
    "#plot the data    \n",
    "plt.scatter(x_axis,y_axis)\n",
    "plt.xlabel('trees')\n",
    "plt.ylabel('Model Accuracy')\n",
    "plt.show()\n",
    "\n",
    "\n",
    "#######################################  Kernel PCA Find # n_components  ################################################\n",
    "x_axis = np.arange(9,13)\n",
    "y_axis = np.ones(4)\n",
    "i = 0\n",
    "\n",
    "for components in range(9,13):\n",
    "    \n",
    "    #Splitting the data into Training Set and Test Set \n",
    "    from sklearn.model_selection import train_test_split\n",
    "    X_train, X_test, y_train, y_test = train_test_split(X_sig,y,test_size=0.3,random_state=0)\n",
    "\n",
    "    #Normalizing all features that are skewed\n",
    "    from sklearn.preprocessing import StandardScaler\n",
    "    sc_X = StandardScaler()\n",
    "    X_train[:,[2,6,7,8,9,10]] = sc_X.fit_transform(X_train[:,[2,6,7,8,9,10]])\n",
    "    X_test[:,[2,6,7,8,9,10]] = sc_X.transform(X_test[:,[2,6,7,8,9,10]])\n",
    "\n",
    "    #Applying PCA\n",
    "    from sklearn.decomposition import PCA\n",
    "    pcaObj = PCA(n_components=components,random_state=0)       #Uses MLE to find the # of dimensions to keep\n",
    "    X_train = pcaObj.fit_transform(X_train)\n",
    "    X_test = pcaObj.transform(X_test)\n",
    "    components_variance = pcaObj.explained_variance_ratio_\n",
    "    \n",
    "    from sklearn.ensemble import RandomForestRegressor\n",
    "    regObj = RandomForestRegressor(n_estimators=55,random_state=0)\n",
    "    regObj.fit(X_train,y_train)\n",
    "\n",
    "    #K-Fold Cross Validation\n",
    "    from sklearn.model_selection import cross_val_score\n",
    "    modelAccuracies = cross_val_score(estimator=regObj, X=X_train, y=y_train, cv=10)\n",
    "    print('K-Fold Model Accuracy: %.3f' % modelAccuracies.mean(), components, sep='\\t')\n",
    "    y_axis[i] = modelAccuracies.mean()\n",
    "    i = i+1\n",
    "\n",
    "#plot the data    \n",
    "plt.scatter(x_axis,y_axis)\n",
    "plt.xlabel('trees')\n",
    "plt.ylabel('K-Fold Model Accuracy')\n",
    "plt.show()"
   ]
  }
 ],
 "metadata": {
  "kernelspec": {
   "display_name": "Python 3",
   "language": "python",
   "name": "python3"
  },
  "language_info": {
   "codemirror_mode": {
    "name": "ipython",
    "version": 3
   },
   "file_extension": ".py",
   "mimetype": "text/x-python",
   "name": "python",
   "nbconvert_exporter": "python",
   "pygments_lexer": "ipython3",
   "version": "3.7.3"
  }
 },
 "nbformat": 4,
 "nbformat_minor": 2
}
