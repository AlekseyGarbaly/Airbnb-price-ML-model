{
 "cells": [
  {
   "cell_type": "code",
   "execution_count": 8,
   "metadata": {},
   "outputs": [
    {
     "name": "stdout",
     "output_type": "stream",
     "text": [
      "Dataset before drop: (6711, 21)\n",
      "Dataset after drop: (6704, 21)\n",
      "X: (6704, 20)\n",
      "y: (6704,)\n",
      "\u001b[1mX column values:\u001b[0m ['t' 3 't' 'Hennepin' 'House' 'Entire home/apt' 5 1.0 1.0 1.0 'Real Bed'\n",
      " 200.0 2 30 1 120 228 95.0 'f' 'strict_14_with_grace_period']\n",
      "X shape: (6704, 20)\n",
      "\u001b[1mX column numerical values:\u001b[0m [  1.   3.   1.   4.   4.   0.   5.   1.   1.   1.   4. 200.   2.  30.\n",
      "   1. 120. 228.  95.   0.   2.]\n",
      "X_sig shape: (6704, 17)\n",
      "\u001b[1mColumns that are kept:\n",
      "\u001b[0m host_is_superhost                                      t\n",
      "host_total_listings_count                              3\n",
      "host_identity_verified                                 t\n",
      "neighbourhood_cleansed                          Hennepin\n",
      "room_type                                Entire home/apt\n",
      "accommodates                                           5\n",
      "bathrooms                                              1\n",
      "bedrooms                                               1\n",
      "beds                                                   1\n",
      "bed_type                                        Real Bed\n",
      "guests_included                                        2\n",
      "minimum_nights                                         1\n",
      "maximum_nights                                       120\n",
      "review_scores_rating                                  95\n",
      "instant_bookable                                       f\n",
      "cancellation_policy          strict_14_with_grace_period\n",
      "Name: 0, dtype: object\n",
      "\u001b[1mColumns that are deleted:\n",
      "\u001b[0m property_type        House\n",
      "security_deposit       200\n",
      "extra_people            30\n",
      "number_of_reviews      228\n",
      "Name: 0, dtype: object\n"
     ]
    },
    {
     "name": "stderr",
     "output_type": "stream",
     "text": [
      "D:\\Python\\Anaconda\\lib\\site-packages\\sklearn\\preprocessing\\_encoders.py:451: DeprecationWarning: The 'categorical_features' keyword is deprecated in version 0.20 and will be removed in 0.22. You can use the ColumnTransformer instead.\n",
      "  \"use the ColumnTransformer instead.\", DeprecationWarning)\n"
     ]
    }
   ],
   "source": [
    "#This classification model sets all nan values in the column \"Review Score Rating\" are set to zero\n",
    "#This is the 2nd most accurate classification model\n",
    "\n",
    "import numpy as np\n",
    "import matplotlib.pyplot as plt\n",
    "import pandas as pd\n",
    "\n",
    "import warnings\n",
    "warnings.simplefilter(action='ignore', category=FutureWarning)    #removes all red warnings\n",
    "\n",
    "class color:           # lets me bold text\n",
    "   BOLD = '\\033[1m'\n",
    "   UNDERLINE = '\\033[4m'\n",
    "   END = '\\033[0m'\n",
    "\n",
    "#loading the dataset\n",
    "dataset = pd.read_csv('AirbnbMNdata-Classification.csv')\n",
    "dataset[\"host_total_listings_count\"] = dataset[\"host_total_listings_count\"].replace(0,1)     # All 0's have a bed listed\n",
    "dataset[\"beds\"] = dataset[\"beds\"].replace(0,1)     #All beds with 0 have some sort of bed listed\n",
    "dataset[\"bedrooms\"] = dataset[\"bedrooms\"].replace(0,dataset[\"accommodates\"]/2).apply(np.ceil)     #Assume 2 people per bedroom\n",
    "dataset[\"property_type\"] = dataset[\"property_type\"].replace(['Castle','Other','Villa'],\"other_under_1000\")    #Simplifies property type category by price\n",
    "dataset[\"property_type\"] = dataset[\"property_type\"].replace(['barn','Bed and breakfast','Bungalow','Boat','Boutique Hotel',\n",
    "    'Campsite','Cabin','Camper/RV','Chalet','Cottage','Earth house','Dome house','Farm stay','Guest suite','Guesthouse',\n",
    "    'Hostel','Hotel','Houseboat','Island','Loft','Nature lodge','Plane','Resort','Serviced apartment','Tiny house','Treehouse',\n",
    "    'Yurt'],\"other_under_500\")    #Simplifies property type category by price part 2\n",
    "dataset[\"price\"] = dataset[\"price\"].replace(dataset.loc[(dataset[\"price\"].values < 50),'price'].values,25)    # Categorize price into a category\n",
    "dataset[\"price\"] = dataset[\"price\"].replace(dataset.loc[(dataset[\"price\"].values > 50) & (dataset[\"price\"].values <= 100),'price'].values,75)\n",
    "dataset[\"price\"] = dataset[\"price\"].replace(dataset.loc[(dataset[\"price\"].values > 100) & (dataset[\"price\"].values <= 200),'price'].values,150)\n",
    "dataset[\"price\"] = dataset[\"price\"].replace(dataset.loc[(dataset[\"price\"].values > 200) & (dataset[\"price\"].values <= 500),'price'].values,350)\n",
    "dataset[\"price\"] = dataset[\"price\"].replace(dataset.loc[(dataset[\"price\"].values > 500) & (dataset[\"price\"].values <= 1000),'price'].values,750)\n",
    "dataset[\"price\"] = dataset[\"price\"].replace(dataset.loc[(dataset[\"price\"].values > 1000) & (dataset[\"price\"].values <= 2000),'price'].values,1500)\n",
    "dataset[\"price\"] = dataset[\"price\"].replace(dataset.loc[(dataset[\"price\"].values > 2000) & (dataset[\"price\"].values <= 5000),'price'].values,3500)\n",
    "dataset[\"price\"] = dataset[\"price\"].replace(dataset.loc[(dataset[\"price\"].values > 5000) & (dataset[\"price\"].values <= 10000),'price'].values,7500)\n",
    "dataset[\"price\"] = dataset[\"price\"].replace(dataset.loc[(dataset[\"price\"].values > 10000),'price'].values,12500)\n",
    "print(\"Dataset before drop:\", dataset.shape)\n",
    "\n",
    "#counting instances for every price category\n",
    "B = np.bincount(dataset['price'].values)\n",
    "price_cat = B[[25,75,150,350,750,1500,3500,7500,12500]]\n",
    "\n",
    "A = dataset.iloc[:,:].values\n",
    "#Dealing with missing values\n",
    "#From the scikit.impute library we first import the SimpleImputer class\n",
    "from sklearn.impute import SimpleImputer\n",
    "\n",
    "#Next we define an object of the SimpleImputer class by looking at the docstring (use Shift+Tab)\n",
    "imputer = SimpleImputer(missing_values=np.nan, strategy='constant', fill_value = 0)\n",
    "\n",
    "# put the constant into the missing values into the rows\n",
    "A[:,12] =imputer.fit_transform(A[:,12].reshape(-1,1)).reshape((6711,))     #Security deposit converted nan to $0\n",
    "A[:,18] =imputer.fit_transform(A[:,18].reshape(-1,1)).reshape((6711,))     #Review Score Rating converted nan to $0\n",
    "\n",
    "dataset.iloc[:,[12,18]] = A[:,[12,18]]\n",
    "dataset = dataset.dropna(axis=0)     # Most of the dropped rows are from the Review Scores Rating\n",
    "print(\"Dataset after drop:\", dataset.shape)\n",
    "\n",
    "X = dataset.values\n",
    "X = np.delete(X,11, axis = 1)\n",
    "y = dataset.iloc[:,11]\n",
    "print(\"X:\", X.shape)\n",
    "print(\"y:\", y.shape)\n",
    "print(color.BOLD+\"X column values:\"+color.END, X[0,:])\n",
    "\n",
    "#Dealing with categorical variables\n",
    "from sklearn.preprocessing import LabelEncoder, OneHotEncoder \n",
    "labelencoder_X = LabelEncoder() \n",
    "X[:,0] = labelencoder_X.fit_transform(X[:,0])\n",
    "X[:,2] = labelencoder_X.fit_transform(X[:,2])\n",
    "X[:,3] = labelencoder_X.fit_transform(X[:,3])\n",
    "X[:,4] = labelencoder_X.fit_transform(X[:,4])\n",
    "X[:,5] = labelencoder_X.fit_transform(X[:,5])\n",
    "X[:,10] = labelencoder_X.fit_transform(X[:,10])\n",
    "X[:,18] = labelencoder_X.fit_transform(X[:,18])\n",
    "X[:,19] = labelencoder_X.fit_transform(X[:,19])\n",
    "onehotencoder = OneHotEncoder(categorical_features=[0]) \n",
    "X = onehotencoder.fit_transform(X).toarray()\n",
    "# Removing the extra dummy variable \n",
    "X = X[:, 1:]\n",
    "print(\"X shape:\", X.shape)\n",
    "print(color.BOLD+\"X column numerical values:\"+color.END, X[0,:])\n",
    "\n",
    "#Backward Elimination \n",
    "import statsmodels.api as sm\n",
    "X = np.append(arr=np.ones((6704,1)).astype(int), values=X, axis=1)\n",
    "\n",
    "X_sig = X[:,[0,1,2,3,4,5,6,7,8,9,10,11,12,13,14,15,16,17,18,19,20]] \n",
    "X_sig = X[:,[0,1,2,3,4,5,6,7,8,9,10,11,12,13,14,15,16,18,19,20]]    # Removed #17 (Number of reviews)\n",
    "X_sig = X[:,[0,1,2,3,4,6,7,8,9,10,11,12,13,14,15,16,18,19,20]]     # Removed #5 (property Type)\n",
    "X_sig = X[:,[0,1,2,3,4,6,7,8,9,10,12,13,14,15,16,18,19,20]]     # Removed #11 (x10) (Security Deposit)\n",
    "X_sig = X[:,[0,1,2,3,4,6,7,8,9,10,12,13,15,16,18,19,20]]     # Removed #14 (x12) (Extra People)\n",
    "obj_OLS = sm.OLS(endog = y, exog = X_sig).fit() \n",
    "obj_OLS.summary()\n",
    "\n",
    "print(\"X_sig shape:\", X_sig.shape)\n",
    "print(color.BOLD+\"Columns that are kept:\\n\"+color.END, dataset.iloc[0,[0,1,2,3,5,6,7,8,9,10,13,15,16,18,19,20]])\n",
    "print(color.BOLD+\"Columns that are deleted:\\n\"+color.END, dataset.iloc[0,[4,12,14,17]])"
   ]
  },
  {
   "cell_type": "code",
   "execution_count": 2,
   "metadata": {},
   "outputs": [
    {
     "data": {
      "image/png": "[encoded data removed]",
      "text/plain": [
       "<Figure size 432x288 with 1 Axes>"
      ]
     },
     "metadata": {
      "needs_background": "light"
     },
     "output_type": "display_data"
    }
   ],
   "source": [
    "# Check for skewness amonst continuous data\n",
    "plt.hist(X_sig[:,16], bins = 15, align='mid')\n",
    "plt.show()"
   ]
  },
  {
   "cell_type": "code",
   "execution_count": 9,
   "metadata": {},
   "outputs": [],
   "source": [
    "#Splitting the data into Training Set and Test Set \n",
    "from sklearn.model_selection import train_test_split\n",
    "X_train, X_test, y_train, y_test = train_test_split(X_sig,y,test_size=0.3,random_state=0)\n",
    "\n",
    "#Normalizing all features that are skewed\n",
    "from sklearn.preprocessing import StandardScaler\n",
    "sc_X = StandardScaler()\n",
    "X_train[:,[2,4,6,7,8,9,10,11,12,13,14,]] = sc_X.fit_transform(X_train[:,[2,4,6,7,8,9,10,11,12,13,14,]])\n",
    "X_test[:,[2,4,6,7,8,9,10,11,12,13,14,]] = sc_X.transform(X_test[:,[2,4,6,7,8,9,10,11,12,13,14,]]) "
   ]
  },
  {
   "cell_type": "code",
   "execution_count": 4,
   "metadata": {},
   "outputs": [
    {
     "name": "stdout",
     "output_type": "stream",
     "text": [
      "\u001b[1mLogistic Regression\u001b[0m\n",
      "Misclassification Rate: 0.584 \n"
     ]
    },
    {
     "name": "stderr",
     "output_type": "stream",
     "text": [
      "C:\\Users\\Jingj\\Anaconda3\\lib\\site-packages\\sklearn\\model_selection\\_split.py:657: Warning: The least populated class in y has only 1 members, which is too few. The minimum number of members in any class cannot be less than n_splits=10.\n",
      "  % (min_groups, self.n_splits)), Warning)\n"
     ]
    },
    {
     "name": "stdout",
     "output_type": "stream",
     "text": [
      "K-Fold Model Accuracy: 0.423\n",
      "\u001b[1m\n",
      "k-NN Model\u001b[0m\n",
      "Misclassification Rate with 18 neighbors: 0.553 \n"
     ]
    },
    {
     "name": "stderr",
     "output_type": "stream",
     "text": [
      "C:\\Users\\Jingj\\Anaconda3\\lib\\site-packages\\sklearn\\model_selection\\_split.py:657: Warning: The least populated class in y has only 1 members, which is too few. The minimum number of members in any class cannot be less than n_splits=10.\n",
      "  % (min_groups, self.n_splits)), Warning)\n"
     ]
    },
    {
     "name": "stdout",
     "output_type": "stream",
     "text": [
      "K-Fold Model Accuracy: 0.431\n",
      "\u001b[1m\n",
      "SVM Model\u001b[0m\n",
      "Misclassification Rate: 0.549\n"
     ]
    },
    {
     "name": "stderr",
     "output_type": "stream",
     "text": [
      "C:\\Users\\Jingj\\Anaconda3\\lib\\site-packages\\sklearn\\model_selection\\_split.py:657: Warning: The least populated class in y has only 1 members, which is too few. The minimum number of members in any class cannot be less than n_splits=10.\n",
      "  % (min_groups, self.n_splits)), Warning)\n"
     ]
    },
    {
     "name": "stdout",
     "output_type": "stream",
     "text": [
      "K-Fold Model Accuracy: 0.463\n",
      "\u001b[1m\n",
      "Naïve Bayes model\u001b[0m\n",
      "Misclassification Rate: 0.686\n",
      "K-Fold Model Accuracy: 0.312\n",
      "\u001b[1m\n",
      "Decision Tree\u001b[0m\n"
     ]
    },
    {
     "name": "stderr",
     "output_type": "stream",
     "text": [
      "C:\\Users\\Jingj\\Anaconda3\\lib\\site-packages\\sklearn\\model_selection\\_split.py:657: Warning: The least populated class in y has only 1 members, which is too few. The minimum number of members in any class cannot be less than n_splits=10.\n",
      "  % (min_groups, self.n_splits)), Warning)\n"
     ]
    },
    {
     "name": "stdout",
     "output_type": "stream",
     "text": [
      "Misclassification Rate: 0.621 \n"
     ]
    },
    {
     "name": "stderr",
     "output_type": "stream",
     "text": [
      "C:\\Users\\Jingj\\Anaconda3\\lib\\site-packages\\sklearn\\model_selection\\_split.py:657: Warning: The least populated class in y has only 1 members, which is too few. The minimum number of members in any class cannot be less than n_splits=10.\n",
      "  % (min_groups, self.n_splits)), Warning)\n"
     ]
    },
    {
     "name": "stdout",
     "output_type": "stream",
     "text": [
      "K-Fold Model Accuracy: 0.389\n"
     ]
    }
   ],
   "source": [
    "#######################################  Logistic Regression  ################################################\n",
    "\n",
    "print(color.BOLD+'Logistic Regression'+color.END)\n",
    "#Fitting Logistic Regression to Training Set\n",
    "from sklearn.linear_model import LogisticRegression\n",
    "classifierObj = LogisticRegression(random_state=0)\n",
    "classifierObj.fit(X_train, y_train)\n",
    "\n",
    "#Find Error rate (Misclassification rate)\n",
    "print('Misclassification Rate: %.3f ' % (1-classifierObj.score(X_test,y_test)))\n",
    "\n",
    "#K-Fold Cross Validation\n",
    "from sklearn.model_selection import cross_val_score\n",
    "modelAccuracies = cross_val_score(estimator=classifierObj, X=X_train, y=y_train, cv=10)\n",
    "print('K-Fold Model Accuracy: %.3f' % modelAccuracies.mean())\n",
    "\n",
    "\n",
    "#######################################  k-NN Model  ################################################\n",
    "\n",
    "print(color.BOLD+'\\nk-NN Model'+color.END)\n",
    "#Fitting Classifier to Training Set. Create a classifier object here and call it classifierObj\n",
    "from sklearn.neighbors import KNeighborsClassifier\n",
    "classifierObj = KNeighborsClassifier(n_neighbors=14, p=2, metric='minkowski')\n",
    "classifierObj.fit(X_train, y_train)      \n",
    "\n",
    "#Find Error rate (Misclassification rate)\n",
    "print('Misclassification Rate with 18 neighbors: %.3f ' % (1-classifierObj.score(X_test,y_test)))\n",
    "\n",
    "#K-Fold Cross Validation\n",
    "from sklearn.model_selection import cross_val_score\n",
    "modelAccuracies = cross_val_score(estimator=classifierObj, X=X_train, y=y_train, cv=10)\n",
    "print('K-Fold Model Accuracy: %.3f' % modelAccuracies.mean())\n",
    "\n",
    "\n",
    "#######################################  SVM Model  ################################################\n",
    "\n",
    "print(color.BOLD+'\\nSVM Model'+color.END)\n",
    "#Fitting Classifier to Training Set. Create a classifier object here and call it classifierObj\n",
    "from sklearn.svm import SVC\n",
    "classifierObj = SVC(kernel='rbf',random_state=0)\n",
    "classifierObj.fit(X_train, y_train)\n",
    "\n",
    "#Find Error rate (Misclassification rate)\n",
    "print('Misclassification Rate: %.3f' % (1-classifierObj.score(X_test,y_test)))    # misclasification rate = 1- accuracy\n",
    "\n",
    "#K-Fold Cross Validation\n",
    "from sklearn.model_selection import cross_val_score\n",
    "modelAccuracies = cross_val_score(estimator=classifierObj, X=X_train, y=y_train, cv=10)\n",
    "print('K-Fold Model Accuracy: %.3f' % modelAccuracies.mean())\n",
    "\n",
    "\n",
    "#######################################  Naïve Bayes model  ################################################\n",
    "\n",
    "print(color.BOLD+'\\nNaïve Bayes model'+color.END)\n",
    "#Fitting Classifier to Training Set. Create a classifier object here and call it classifierObj\n",
    "from sklearn.naive_bayes import GaussianNB\n",
    "classifierObj = GaussianNB()\n",
    "classifierObj.fit(X_train, y_train)\n",
    "\n",
    "#Find Error rate (Misclassification rate)\n",
    "print('Misclassification Rate: %.3f' % (1-classifierObj.score(X_test,y_test)))    # misclasification rate = 1- accuracy\n",
    "\n",
    "#K-Fold Cross Validation\n",
    "from sklearn.model_selection import cross_val_score\n",
    "modelAccuracies = cross_val_score(estimator=classifierObj, X=X_train, y=y_train, cv=10)\n",
    "print('K-Fold Model Accuracy: %.3f' % modelAccuracies.mean())\n",
    "\n",
    "\n",
    "#######################################  Decision Tree  ################################################\n",
    "\n",
    "print(color.BOLD+'\\nDecision Tree'+color.END)\n",
    "#Fitting Classifier to Training Set. Create a classifier object here and call it classifierObj\n",
    "from sklearn.tree import DecisionTreeClassifier\n",
    "classifierObj = DecisionTreeClassifier(criterion='entropy',random_state=0)\n",
    "classifierObj.fit(X_train,y_train)\n",
    "\n",
    "#Find Error rate (Misclassification rate)\n",
    "print('Misclassification Rate: %.3f ' % (1-classifierObj.score(X_test,y_test)))\n",
    "\n",
    "#K-Fold Cross Validation\n",
    "from sklearn.model_selection import cross_val_score\n",
    "modelAccuracies = cross_val_score(estimator=classifierObj, X=X_train, y=y_train, cv=10)\n",
    "print('K-Fold Model Accuracy: %.3f' % modelAccuracies.mean())"
   ]
  },
  {
   "cell_type": "code",
   "execution_count": 6,
   "metadata": {},
   "outputs": [
    {
     "name": "stdout",
     "output_type": "stream",
     "text": [
      "\u001b[1m\n",
      "Random Forest model - Grid Search\u001b[0m\n"
     ]
    },
    {
     "name": "stderr",
     "output_type": "stream",
     "text": [
      "D:\\Python\\Anaconda\\lib\\site-packages\\sklearn\\model_selection\\_split.py:657: Warning: The least populated class in y has only 1 members, which is too few. The minimum number of members in any class cannot be less than n_splits=5.\n",
      "  % (min_groups, self.n_splits)), Warning)\n"
     ]
    },
    {
     "name": "stdout",
     "output_type": "stream",
     "text": [
      "{'bootstrap': True, 'criterion': 'gini', 'n_estimators': 130}\n",
      "0.486999147485081\n"
     ]
    }
   ],
   "source": [
    "#######################################  Random Forest - Grid Search  ################################################\n",
    "\n",
    "print(color.BOLD+'\\nRandom Forest model - Grid Search'+color.END)\n",
    "from sklearn.ensemble import RandomForestClassifier\n",
    "classifierObj = RandomForestClassifier(random_state=0)\n",
    "\n",
    "grid_param = {  \n",
    "    'n_estimators': [128,129,130,131,132],\n",
    "    'criterion': ['gini', 'entropy'],\n",
    "    'bootstrap': [True, False]\n",
    "}\n",
    "\n",
    "from sklearn.model_selection import GridSearchCV\n",
    "gd_sr = GridSearchCV(estimator=classifierObj, param_grid=grid_param, scoring='accuracy', cv=5, n_jobs=-1)\n",
    "gd_sr.fit(X_train, y_train) \n",
    "print(gd_sr.best_params_)  \n",
    "print(gd_sr.best_score_)"
   ]
  },
  {
   "cell_type": "code",
   "execution_count": 7,
   "metadata": {},
   "outputs": [
    {
     "name": "stdout",
     "output_type": "stream",
     "text": [
      "\u001b[1m\n",
      "Random Forest model\u001b[0m\n",
      "Misclassification Rate with 30 trees: 0.534 \n"
     ]
    },
    {
     "name": "stderr",
     "output_type": "stream",
     "text": [
      "D:\\Python\\Anaconda\\lib\\site-packages\\sklearn\\model_selection\\_split.py:657: Warning: The least populated class in y has only 1 members, which is too few. The minimum number of members in any class cannot be less than n_splits=10.\n",
      "  % (min_groups, self.n_splits)), Warning)\n"
     ]
    },
    {
     "name": "stdout",
     "output_type": "stream",
     "text": [
      "K-Fold Model Accuracy: 0.485\n"
     ]
    }
   ],
   "source": [
    "#######################################  Random Forest model  ################################################\n",
    "\n",
    "print(color.BOLD+'\\nRandom Forest model'+color.END)\n",
    "#Fitting Classifier to Training Set. Create a classifier object here and call it classifierObj\n",
    "from sklearn.ensemble import RandomForestClassifier\n",
    "classifierObj = RandomForestClassifier(n_estimators= 130,criterion='gini',bootstrap='True',random_state=0)\n",
    "classifierObj.fit(X_train,y_train)\n",
    "\n",
    "#Find Error rate (Misclassification rate)\n",
    "print('Misclassification Rate with 30 trees: %.3f ' % (1-classifierObj.score(X_test,y_test)))\n",
    "\n",
    "#K-Fold Cross Validation\n",
    "from sklearn.model_selection import cross_val_score\n",
    "modelAccuracies = cross_val_score(estimator=classifierObj, X=X_train, y=y_train, cv=10)\n",
    "print('K-Fold Model Accuracy: %.3f' % modelAccuracies.mean()) "
   ]
  },
  {
   "cell_type": "code",
   "execution_count": 10,
   "metadata": {},
   "outputs": [
    {
     "name": "stderr",
     "output_type": "stream",
     "text": [
      "D:\\Python\\Anaconda\\lib\\site-packages\\sklearn\\decomposition\\pca.py:74: RuntimeWarning: divide by zero encountered in log\n",
      "  pv = -np.log(v) * n_samples * (n_features - rank) / 2.\n",
      "D:\\Python\\Anaconda\\lib\\site-packages\\sklearn\\decomposition\\pca.py:85: RuntimeWarning: divide by zero encountered in double_scalars\n",
      "  (1. / spectrum_[j] - 1. / spectrum_[i])) + log(n_samples)\n",
      "D:\\Python\\Anaconda\\lib\\site-packages\\sklearn\\decomposition\\pca.py:87: RuntimeWarning: invalid value encountered in double_scalars\n",
      "  ll = pu + pl + pv + pp - pa / 2. - rank * log(n_samples) / 2.\n"
     ]
    },
    {
     "data": {
      "image/png": "[encoded data removed]",
      "text/plain": [
       "<Figure size 432x288 with 2 Axes>"
      ]
     },
     "metadata": {
      "needs_background": "light"
     },
     "output_type": "display_data"
    },
    {
     "name": "stdout",
     "output_type": "stream",
     "text": [
      "X_train shape after PCA:  (4692, 16)\n"
     ]
    }
   ],
   "source": [
    "#######################################  Apply PCA  ################################################\n",
    "\n",
    "#Splitting the data into Training Set and Test Set \n",
    "from sklearn.model_selection import train_test_split\n",
    "X_train, X_test, y_train, y_test = train_test_split(X_sig,y,test_size=0.3,random_state=0)\n",
    "\n",
    "#Normalizing all features that are skewed\n",
    "from sklearn.preprocessing import StandardScaler\n",
    "sc_X = StandardScaler()\n",
    "X_train[:,[2,4,6,7,8,9,10,11,12,13,14,]] = sc_X.fit_transform(X_train[:,[2,4,6,7,8,9,10,11,12,13,14,]])\n",
    "X_test[:,[2,4,6,7,8,9,10,11,12,13,14,]] = sc_X.transform(X_test[:,[2,4,6,7,8,9,10,11,12,13,14,]]) \n",
    "\n",
    "#Applying PCA\n",
    "from sklearn.decomposition import PCA\n",
    "pcaObj = PCA(n_components='mle',random_state=0)       #Uses MLE to find the # of dimensions to keep\n",
    "X_train = pcaObj.fit_transform(X_train)\n",
    "X_test = pcaObj.transform(X_test)\n",
    "components_variance = pcaObj.explained_variance_ratio_\n",
    "\n",
    "#Visualizing the data\n",
    "from matplotlib.colors import ListedColormap\n",
    "X_set, y_set = X_test, y_test\n",
    "X1, X2 = np.meshgrid(np.arange(start = X_set[:, 0].min() - 1, stop = X_set[:, 0].max() + 1, step = 0.01),\n",
    "    np.arange(start = X_set[:, 1].min() - 1, stop = X_set[:, 1].max() + 1, step = 0.01))\n",
    "#plt.contourf(X1, X2, classifierObj.predict(np.array([X1.ravel(), X2.ravel()]).T).reshape(X1.shape),\n",
    " #   alpha = 0.75, cmap = ListedColormap(('red', 'blue')))\n",
    "plt.xlim(X1.min(), X1.max())\n",
    "plt.ylim(X2.min(), X2.max())\n",
    "for i, j in enumerate(np.unique(y_set)):\n",
    "    plt.scatter(X_set[y_set == j, 0], X_set[y_set == j, 1],\n",
    "                cmap='jet', label = j)\n",
    "plt.xlabel('Principle Component 1')\n",
    "plt.ylabel('Principle Component 2')\n",
    "plt.legend()\n",
    "plt.colorbar()\n",
    "plt.show()\n",
    "print('X_train shape after PCA: ', X_train.shape)"
   ]
  },
  {
   "cell_type": "code",
   "execution_count": 8,
   "metadata": {},
   "outputs": [
    {
     "name": "stdout",
     "output_type": "stream",
     "text": [
      "\u001b[1mLogistic Regression\u001b[0m\n",
      "Misclassification Rate: 0.585 \n"
     ]
    },
    {
     "name": "stderr",
     "output_type": "stream",
     "text": [
      "C:\\Users\\Jingj\\Anaconda3\\lib\\site-packages\\sklearn\\model_selection\\_split.py:657: Warning: The least populated class in y has only 1 members, which is too few. The minimum number of members in any class cannot be less than n_splits=10.\n",
      "  % (min_groups, self.n_splits)), Warning)\n"
     ]
    },
    {
     "name": "stdout",
     "output_type": "stream",
     "text": [
      "K-Fold Model Accuracy: 0.423\n",
      "\u001b[1m\n",
      "k-NN Model\u001b[0m\n",
      "Misclassification Rate with 18 neighbors: 0.553 \n"
     ]
    },
    {
     "name": "stderr",
     "output_type": "stream",
     "text": [
      "C:\\Users\\Jingj\\Anaconda3\\lib\\site-packages\\sklearn\\model_selection\\_split.py:657: Warning: The least populated class in y has only 1 members, which is too few. The minimum number of members in any class cannot be less than n_splits=10.\n",
      "  % (min_groups, self.n_splits)), Warning)\n"
     ]
    },
    {
     "name": "stdout",
     "output_type": "stream",
     "text": [
      "K-Fold Model Accuracy: 0.432\n",
      "\u001b[1m\n",
      "SVM Model\u001b[0m\n",
      "Misclassification Rate: 0.545\n"
     ]
    },
    {
     "name": "stderr",
     "output_type": "stream",
     "text": [
      "C:\\Users\\Jingj\\Anaconda3\\lib\\site-packages\\sklearn\\model_selection\\_split.py:657: Warning: The least populated class in y has only 1 members, which is too few. The minimum number of members in any class cannot be less than n_splits=10.\n",
      "  % (min_groups, self.n_splits)), Warning)\n"
     ]
    },
    {
     "name": "stdout",
     "output_type": "stream",
     "text": [
      "K-Fold Model Accuracy: 0.464\n",
      "\u001b[1m\n",
      "Naïve Bayes model\u001b[0m\n",
      "Misclassification Rate: 0.631\n",
      "K-Fold Model Accuracy: 0.372\n",
      "\u001b[1m\n",
      "Decision Tree\u001b[0m\n"
     ]
    },
    {
     "name": "stderr",
     "output_type": "stream",
     "text": [
      "C:\\Users\\Jingj\\Anaconda3\\lib\\site-packages\\sklearn\\model_selection\\_split.py:657: Warning: The least populated class in y has only 1 members, which is too few. The minimum number of members in any class cannot be less than n_splits=10.\n",
      "  % (min_groups, self.n_splits)), Warning)\n"
     ]
    },
    {
     "name": "stdout",
     "output_type": "stream",
     "text": [
      "Misclassification Rate: 0.629 \n"
     ]
    },
    {
     "name": "stderr",
     "output_type": "stream",
     "text": [
      "C:\\Users\\Jingj\\Anaconda3\\lib\\site-packages\\sklearn\\model_selection\\_split.py:657: Warning: The least populated class in y has only 1 members, which is too few. The minimum number of members in any class cannot be less than n_splits=10.\n",
      "  % (min_groups, self.n_splits)), Warning)\n"
     ]
    },
    {
     "name": "stdout",
     "output_type": "stream",
     "text": [
      "K-Fold Model Accuracy: 0.364\n"
     ]
    }
   ],
   "source": [
    "#######################################  Logistic Regression  ################################################\n",
    "\n",
    "print(color.BOLD+'Logistic Regression'+color.END)\n",
    "#Fitting Logistic Regression to Training Set\n",
    "from sklearn.linear_model import LogisticRegression\n",
    "classifierObj = LogisticRegression(random_state=0)\n",
    "classifierObj.fit(X_train, y_train)\n",
    "\n",
    "#Find Error rate (Misclassification rate)\n",
    "print('Misclassification Rate: %.3f ' % (1-classifierObj.score(X_test,y_test)))\n",
    "\n",
    "#K-Fold Cross Validation\n",
    "from sklearn.model_selection import cross_val_score\n",
    "modelAccuracies = cross_val_score(estimator=classifierObj, X=X_train, y=y_train, cv=10)\n",
    "print('K-Fold Model Accuracy: %.3f' % modelAccuracies.mean())\n",
    "\n",
    "\n",
    "#######################################  k-NN Model  ################################################\n",
    "\n",
    "print(color.BOLD+'\\nk-NN Model'+color.END)\n",
    "#Fitting Classifier to Training Set. Create a classifier object here and call it classifierObj\n",
    "from sklearn.neighbors import KNeighborsClassifier\n",
    "classifierObj = KNeighborsClassifier(n_neighbors=14, p=2, metric='minkowski')\n",
    "classifierObj.fit(X_train, y_train)      \n",
    "\n",
    "#Find Error rate (Misclassification rate)\n",
    "print('Misclassification Rate with 18 neighbors: %.3f ' % (1-classifierObj.score(X_test,y_test)))\n",
    "\n",
    "#K-Fold Cross Validation\n",
    "from sklearn.model_selection import cross_val_score\n",
    "modelAccuracies = cross_val_score(estimator=classifierObj, X=X_train, y=y_train, cv=10)\n",
    "print('K-Fold Model Accuracy: %.3f' % modelAccuracies.mean())\n",
    "\n",
    "\n",
    "#######################################  SVM Model  ################################################\n",
    "\n",
    "print(color.BOLD+'\\nSVM Model'+color.END)\n",
    "#Fitting Classifier to Training Set. Create a classifier object here and call it classifierObj\n",
    "from sklearn.svm import SVC\n",
    "classifierObj = SVC(kernel='rbf',random_state=0)\n",
    "classifierObj.fit(X_train, y_train)\n",
    "\n",
    "#Find Error rate (Misclassification rate)\n",
    "print('Misclassification Rate: %.3f' % (1-classifierObj.score(X_test,y_test)))    # misclasification rate = 1- accuracy\n",
    "\n",
    "#K-Fold Cross Validation\n",
    "from sklearn.model_selection import cross_val_score\n",
    "modelAccuracies = cross_val_score(estimator=classifierObj, X=X_train, y=y_train, cv=10)\n",
    "print('K-Fold Model Accuracy: %.3f' % modelAccuracies.mean())\n",
    "\n",
    "\n",
    "#######################################  Naïve Bayes model  ################################################\n",
    "\n",
    "print(color.BOLD+'\\nNaïve Bayes model'+color.END)\n",
    "#Fitting Classifier to Training Set. Create a classifier object here and call it classifierObj\n",
    "from sklearn.naive_bayes import GaussianNB\n",
    "classifierObj = GaussianNB()\n",
    "classifierObj.fit(X_train, y_train)\n",
    "\n",
    "#Find Error rate (Misclassification rate)\n",
    "print('Misclassification Rate: %.3f' % (1-classifierObj.score(X_test,y_test)))    # misclasification rate = 1- accuracy\n",
    "\n",
    "#K-Fold Cross Validation\n",
    "from sklearn.model_selection import cross_val_score\n",
    "modelAccuracies = cross_val_score(estimator=classifierObj, X=X_train, y=y_train, cv=10)\n",
    "print('K-Fold Model Accuracy: %.3f' % modelAccuracies.mean())\n",
    "\n",
    "\n",
    "#######################################  Decision Tree  ################################################\n",
    "\n",
    "print(color.BOLD+'\\nDecision Tree'+color.END)\n",
    "#Fitting Classifier to Training Set. Create a classifier object here and call it classifierObj\n",
    "from sklearn.tree import DecisionTreeClassifier\n",
    "classifierObj = DecisionTreeClassifier(criterion='entropy',random_state=0)\n",
    "classifierObj.fit(X_train,y_train)\n",
    "\n",
    "#Find Error rate (Misclassification rate)\n",
    "print('Misclassification Rate: %.3f ' % (1-classifierObj.score(X_test,y_test)))\n",
    "\n",
    "#K-Fold Cross Validation\n",
    "from sklearn.model_selection import cross_val_score\n",
    "modelAccuracies = cross_val_score(estimator=classifierObj, X=X_train, y=y_train, cv=10)\n",
    "print('K-Fold Model Accuracy: %.3f' % modelAccuracies.mean())"
   ]
  },
  {
   "cell_type": "code",
   "execution_count": 9,
   "metadata": {},
   "outputs": [
    {
     "name": "stdout",
     "output_type": "stream",
     "text": [
      "\u001b[1m\n",
      "Random Forest model - Grid Search\u001b[0m\n"
     ]
    },
    {
     "name": "stderr",
     "output_type": "stream",
     "text": [
      "C:\\Users\\Jingj\\Anaconda3\\lib\\site-packages\\sklearn\\model_selection\\_split.py:657: Warning: The least populated class in y has only 1 members, which is too few. The minimum number of members in any class cannot be less than n_splits=5.\n",
      "  % (min_groups, self.n_splits)), Warning)\n"
     ]
    },
    {
     "name": "stdout",
     "output_type": "stream",
     "text": [
      "{'bootstrap': True, 'criterion': 'entropy', 'n_estimators': 50}\n",
      "0.4411764705882353\n"
     ]
    }
   ],
   "source": [
    "#######################################  Random Forest - Grid Search  ################################################\n",
    "\n",
    "print(color.BOLD+'\\nRandom Forest model - Grid Search'+color.END)\n",
    "from sklearn.ensemble import RandomForestClassifier\n",
    "classifierObj = RandomForestClassifier(random_state=0)\n",
    "\n",
    "grid_param = {  \n",
    "    'n_estimators': [10, 15, 20, 25, 30, 40, 50],\n",
    "    'criterion': ['gini', 'entropy'],\n",
    "    'bootstrap': [True, False]\n",
    "}\n",
    "\n",
    "from sklearn.model_selection import GridSearchCV\n",
    "gd_sr = GridSearchCV(estimator=classifierObj, param_grid=grid_param, scoring='accuracy', cv=5, n_jobs=-1)\n",
    "gd_sr.fit(X_train, y_train) \n",
    "print(gd_sr.best_params_)  \n",
    "print(gd_sr.best_score_)"
   ]
  },
  {
   "cell_type": "code",
   "execution_count": 11,
   "metadata": {},
   "outputs": [
    {
     "name": "stdout",
     "output_type": "stream",
     "text": [
      "\u001b[1m\n",
      "Random Forest model\u001b[0m\n",
      "Misclassification Rate with 50 trees: 0.556 \n"
     ]
    },
    {
     "name": "stderr",
     "output_type": "stream",
     "text": [
      "D:\\Python\\Anaconda\\lib\\site-packages\\sklearn\\model_selection\\_split.py:657: Warning: The least populated class in y has only 1 members, which is too few. The minimum number of members in any class cannot be less than n_splits=10.\n",
      "  % (min_groups, self.n_splits)), Warning)\n"
     ]
    },
    {
     "name": "stdout",
     "output_type": "stream",
     "text": [
      "K-Fold Model Accuracy: 0.446\n"
     ]
    }
   ],
   "source": [
    "#######################################  Random Forest model  ################################################\n",
    "\n",
    "print(color.BOLD+'\\nRandom Forest model'+color.END)\n",
    "#Fitting Classifier to Training Set. Create a classifier object here and call it classifierObj\n",
    "from sklearn.ensemble import RandomForestClassifier\n",
    "classifierObj = RandomForestClassifier(n_estimators= 50,criterion='entropy',bootstrap='True',random_state=0)\n",
    "classifierObj.fit(X_train,y_train)\n",
    "\n",
    "#Find Error rate (Misclassification rate)\n",
    "print('Misclassification Rate with 50 trees: %.3f ' % (1-classifierObj.score(X_test,y_test)))\n",
    "\n",
    "#K-Fold Cross Validation\n",
    "from sklearn.model_selection import cross_val_score\n",
    "modelAccuracies = cross_val_score(estimator=classifierObj, X=X_train, y=y_train, cv=10)\n",
    "print('K-Fold Model Accuracy: %.3f' % modelAccuracies.mean()) "
   ]
  },
  {
   "cell_type": "code",
   "execution_count": 11,
   "metadata": {},
   "outputs": [
    {
     "name": "stderr",
     "output_type": "stream",
     "text": [
      "C:\\Users\\Jingj\\Anaconda3\\lib\\site-packages\\sklearn\\discriminant_analysis.py:388: UserWarning: Variables are collinear.\n",
      "  warnings.warn(\"Variables are collinear.\")\n"
     ]
    },
    {
     "data": {
      "image/png": "[encoded data removed]",
      "text/plain": [
       "<Figure size 432x288 with 1 Axes>"
      ]
     },
     "metadata": {
      "needs_background": "light"
     },
     "output_type": "display_data"
    },
    {
     "name": "stdout",
     "output_type": "stream",
     "text": [
      "X_train shape after LDA:  (4692, 9)\n"
     ]
    }
   ],
   "source": [
    "#######################################  Apply LDA  ################################################\n",
    "\n",
    "#Splitting the data into Training Set and Test Set \n",
    "from sklearn.model_selection import train_test_split\n",
    "X_train, X_test, y_train, y_test = train_test_split(X_sig,y,test_size=0.3,random_state=0)\n",
    "\n",
    "#Normalizing all features that are skewed\n",
    "from sklearn.preprocessing import StandardScaler\n",
    "sc_X = StandardScaler()\n",
    "X_train[:,[2,4,6,7,8,9,10,11,12,13,14,]] = sc_X.fit_transform(X_train[:,[2,4,6,7,8,9,10,11,12,13,14,]])\n",
    "X_test[:,[2,4,6,7,8,9,10,11,12,13,14,]] = sc_X.transform(X_test[:,[2,4,6,7,8,9,10,11,12,13,14,]]) \n",
    "\n",
    "#Applying LDA\n",
    "from sklearn.discriminant_analysis import LinearDiscriminantAnalysis as LDA\n",
    "ldaObj = LDA(n_components=None, solver='svd')          #Specifying 'None' makes n_components = min(n_classes - 1, n_features)\n",
    "X_train = ldaObj.fit_transform(X_train,y_train)\n",
    "X_test = ldaObj.transform(X_test)\n",
    "\n",
    "#Visualizing the data\n",
    "X_set, y_set = X_test, y_test\n",
    "y_axis = np.zeros((2012,1))\n",
    "for i, j in enumerate(np.unique(y_set)):\n",
    "    plt.scatter(X_set[y_set == j, 0],  y_axis[y_set == j, 0],\n",
    "                cmap='Blues', label = j)\n",
    "plt.xlabel('Principle Component 1')\n",
    "plt.ylabel('')\n",
    "plt.legend()\n",
    "plt.show()\n",
    "print('X_train shape after LDA: ', X_train.shape)"
   ]
  },
  {
   "cell_type": "code",
   "execution_count": 12,
   "metadata": {},
   "outputs": [
    {
     "name": "stdout",
     "output_type": "stream",
     "text": [
      "\u001b[1mLogistic Regression\u001b[0m\n",
      "Misclassification Rate: 0.602 \n"
     ]
    },
    {
     "name": "stderr",
     "output_type": "stream",
     "text": [
      "C:\\Users\\Jingj\\Anaconda3\\lib\\site-packages\\sklearn\\model_selection\\_split.py:657: Warning: The least populated class in y has only 1 members, which is too few. The minimum number of members in any class cannot be less than n_splits=10.\n",
      "  % (min_groups, self.n_splits)), Warning)\n"
     ]
    },
    {
     "name": "stdout",
     "output_type": "stream",
     "text": [
      "K-Fold Model Accuracy: 0.418\n",
      "\u001b[1m\n",
      "k-NN Model\u001b[0m\n",
      "Misclassification Rate with 18 neighbors: 0.592 \n"
     ]
    },
    {
     "name": "stderr",
     "output_type": "stream",
     "text": [
      "C:\\Users\\Jingj\\Anaconda3\\lib\\site-packages\\sklearn\\model_selection\\_split.py:657: Warning: The least populated class in y has only 1 members, which is too few. The minimum number of members in any class cannot be less than n_splits=10.\n",
      "  % (min_groups, self.n_splits)), Warning)\n"
     ]
    },
    {
     "name": "stdout",
     "output_type": "stream",
     "text": [
      "K-Fold Model Accuracy: 0.425\n",
      "\u001b[1m\n",
      "SVM Model\u001b[0m\n",
      "Misclassification Rate: 0.572\n"
     ]
    },
    {
     "name": "stderr",
     "output_type": "stream",
     "text": [
      "C:\\Users\\Jingj\\Anaconda3\\lib\\site-packages\\sklearn\\model_selection\\_split.py:657: Warning: The least populated class in y has only 1 members, which is too few. The minimum number of members in any class cannot be less than n_splits=10.\n",
      "  % (min_groups, self.n_splits)), Warning)\n"
     ]
    },
    {
     "name": "stdout",
     "output_type": "stream",
     "text": [
      "K-Fold Model Accuracy: 0.445\n",
      "\u001b[1m\n",
      "Naïve Bayes model\u001b[0m\n",
      "Misclassification Rate: 0.627\n",
      "K-Fold Model Accuracy: 0.396\n",
      "\u001b[1m\n",
      "Decision Tree\u001b[0m\n"
     ]
    },
    {
     "name": "stderr",
     "output_type": "stream",
     "text": [
      "C:\\Users\\Jingj\\Anaconda3\\lib\\site-packages\\sklearn\\model_selection\\_split.py:657: Warning: The least populated class in y has only 1 members, which is too few. The minimum number of members in any class cannot be less than n_splits=10.\n",
      "  % (min_groups, self.n_splits)), Warning)\n"
     ]
    },
    {
     "name": "stdout",
     "output_type": "stream",
     "text": [
      "Misclassification Rate: 0.648 \n"
     ]
    },
    {
     "name": "stderr",
     "output_type": "stream",
     "text": [
      "C:\\Users\\Jingj\\Anaconda3\\lib\\site-packages\\sklearn\\model_selection\\_split.py:657: Warning: The least populated class in y has only 1 members, which is too few. The minimum number of members in any class cannot be less than n_splits=10.\n",
      "  % (min_groups, self.n_splits)), Warning)\n"
     ]
    },
    {
     "name": "stdout",
     "output_type": "stream",
     "text": [
      "K-Fold Model Accuracy: 0.366\n"
     ]
    }
   ],
   "source": [
    "#######################################  Logistic Regression  ################################################\n",
    "\n",
    "print(color.BOLD+'Logistic Regression'+color.END)\n",
    "#Fitting Logistic Regression to Training Set\n",
    "from sklearn.linear_model import LogisticRegression\n",
    "classifierObj = LogisticRegression(random_state=0)\n",
    "classifierObj.fit(X_train, y_train)\n",
    "\n",
    "#Find Error rate (Misclassification rate)\n",
    "print('Misclassification Rate: %.3f ' % (1-classifierObj.score(X_test,y_test)))\n",
    "\n",
    "#K-Fold Cross Validation\n",
    "from sklearn.model_selection import cross_val_score\n",
    "modelAccuracies = cross_val_score(estimator=classifierObj, X=X_train, y=y_train, cv=10)\n",
    "print('K-Fold Model Accuracy: %.3f' % modelAccuracies.mean())\n",
    "\n",
    "\n",
    "#######################################  k-NN Model  ################################################\n",
    "\n",
    "print(color.BOLD+'\\nk-NN Model'+color.END)\n",
    "#Fitting Classifier to Training Set. Create a classifier object here and call it classifierObj\n",
    "from sklearn.neighbors import KNeighborsClassifier\n",
    "classifierObj = KNeighborsClassifier(n_neighbors=14, p=2, metric='minkowski')\n",
    "classifierObj.fit(X_train, y_train)      \n",
    "\n",
    "#Find Error rate (Misclassification rate)\n",
    "print('Misclassification Rate with 18 neighbors: %.3f ' % (1-classifierObj.score(X_test,y_test)))\n",
    "\n",
    "#K-Fold Cross Validation\n",
    "from sklearn.model_selection import cross_val_score\n",
    "modelAccuracies = cross_val_score(estimator=classifierObj, X=X_train, y=y_train, cv=10)\n",
    "print('K-Fold Model Accuracy: %.3f' % modelAccuracies.mean())\n",
    "\n",
    "\n",
    "#######################################  SVM Model  ################################################\n",
    "\n",
    "print(color.BOLD+'\\nSVM Model'+color.END)\n",
    "#Fitting Classifier to Training Set. Create a classifier object here and call it classifierObj\n",
    "from sklearn.svm import SVC\n",
    "classifierObj = SVC(kernel='rbf',random_state=0)\n",
    "classifierObj.fit(X_train, y_train)\n",
    "\n",
    "#Find Error rate (Misclassification rate)\n",
    "print('Misclassification Rate: %.3f' % (1-classifierObj.score(X_test,y_test)))    # misclasification rate = 1- accuracy\n",
    "\n",
    "#K-Fold Cross Validation\n",
    "from sklearn.model_selection import cross_val_score\n",
    "modelAccuracies = cross_val_score(estimator=classifierObj, X=X_train, y=y_train, cv=10)\n",
    "print('K-Fold Model Accuracy: %.3f' % modelAccuracies.mean())\n",
    "\n",
    "\n",
    "#######################################  Naïve Bayes model  ################################################\n",
    "\n",
    "print(color.BOLD+'\\nNaïve Bayes model'+color.END)\n",
    "#Fitting Classifier to Training Set. Create a classifier object here and call it classifierObj\n",
    "from sklearn.naive_bayes import GaussianNB\n",
    "classifierObj = GaussianNB()\n",
    "classifierObj.fit(X_train, y_train)\n",
    "\n",
    "#Find Error rate (Misclassification rate)\n",
    "print('Misclassification Rate: %.3f' % (1-classifierObj.score(X_test,y_test)))    # misclasification rate = 1- accuracy\n",
    "\n",
    "#K-Fold Cross Validation\n",
    "from sklearn.model_selection import cross_val_score\n",
    "modelAccuracies = cross_val_score(estimator=classifierObj, X=X_train, y=y_train, cv=10)\n",
    "print('K-Fold Model Accuracy: %.3f' % modelAccuracies.mean())\n",
    "\n",
    "\n",
    "#######################################  Decision Tree  ################################################\n",
    "\n",
    "print(color.BOLD+'\\nDecision Tree'+color.END)\n",
    "#Fitting Classifier to Training Set. Create a classifier object here and call it classifierObj\n",
    "from sklearn.tree import DecisionTreeClassifier\n",
    "classifierObj = DecisionTreeClassifier(criterion='entropy',random_state=0)\n",
    "classifierObj.fit(X_train,y_train)\n",
    "\n",
    "#Find Error rate (Misclassification rate)\n",
    "print('Misclassification Rate: %.3f ' % (1-classifierObj.score(X_test,y_test)))\n",
    "\n",
    "#K-Fold Cross Validation\n",
    "from sklearn.model_selection import cross_val_score\n",
    "modelAccuracies = cross_val_score(estimator=classifierObj, X=X_train, y=y_train, cv=10)\n",
    "print('K-Fold Model Accuracy: %.3f' % modelAccuracies.mean())"
   ]
  },
  {
   "cell_type": "code",
   "execution_count": 13,
   "metadata": {},
   "outputs": [
    {
     "name": "stdout",
     "output_type": "stream",
     "text": [
      "\u001b[1m\n",
      "Random Forest model - Grid Search\u001b[0m\n"
     ]
    },
    {
     "name": "stderr",
     "output_type": "stream",
     "text": [
      "C:\\Users\\Jingj\\Anaconda3\\lib\\site-packages\\sklearn\\model_selection\\_split.py:657: Warning: The least populated class in y has only 1 members, which is too few. The minimum number of members in any class cannot be less than n_splits=5.\n",
      "  % (min_groups, self.n_splits)), Warning)\n"
     ]
    },
    {
     "name": "stdout",
     "output_type": "stream",
     "text": [
      "{'bootstrap': True, 'criterion': 'gini', 'n_estimators': 30}\n",
      "0.4309462915601023\n"
     ]
    }
   ],
   "source": [
    "#######################################  Random Forest - Grid Search  ################################################\n",
    "\n",
    "print(color.BOLD+'\\nRandom Forest model - Grid Search'+color.END)\n",
    "from sklearn.ensemble import RandomForestClassifier\n",
    "classifierObj = RandomForestClassifier(random_state=0)\n",
    "\n",
    "grid_param = {  \n",
    "    'n_estimators': [10, 15, 20, 25, 30, 40, 50],\n",
    "    'criterion': ['gini', 'entropy'],\n",
    "    'bootstrap': [True, False]\n",
    "}\n",
    "\n",
    "from sklearn.model_selection import GridSearchCV\n",
    "gd_sr = GridSearchCV(estimator=classifierObj, param_grid=grid_param, scoring='accuracy', cv=5, n_jobs=-1)\n",
    "gd_sr.fit(X_train, y_train) \n",
    "print(gd_sr.best_params_)  \n",
    "print(gd_sr.best_score_)"
   ]
  },
  {
   "cell_type": "code",
   "execution_count": 14,
   "metadata": {},
   "outputs": [
    {
     "name": "stdout",
     "output_type": "stream",
     "text": [
      "\u001b[1m\n",
      "Random Forest model\u001b[0m\n",
      "Misclassification Rate with 30 trees: 0.581 \n"
     ]
    },
    {
     "name": "stderr",
     "output_type": "stream",
     "text": [
      "C:\\Users\\Jingj\\Anaconda3\\lib\\site-packages\\sklearn\\model_selection\\_split.py:657: Warning: The least populated class in y has only 1 members, which is too few. The minimum number of members in any class cannot be less than n_splits=10.\n",
      "  % (min_groups, self.n_splits)), Warning)\n"
     ]
    },
    {
     "name": "stdout",
     "output_type": "stream",
     "text": [
      "K-Fold Model Accuracy: 0.433\n"
     ]
    }
   ],
   "source": [
    "#######################################  Random Forest model  ################################################\n",
    "\n",
    "print(color.BOLD+'\\nRandom Forest model'+color.END)\n",
    "#Fitting Classifier to Training Set. Create a classifier object here and call it classifierObj\n",
    "from sklearn.ensemble import RandomForestClassifier\n",
    "classifierObj = RandomForestClassifier(n_estimators=30,criterion='gini',bootstrap='True',random_state=0)\n",
    "classifierObj.fit(X_train,y_train)\n",
    "\n",
    "#Find Error rate (Misclassification rate)\n",
    "print('Misclassification Rate with 30 trees: %.3f ' % (1-classifierObj.score(X_test,y_test)))\n",
    "\n",
    "#K-Fold Cross Validation\n",
    "from sklearn.model_selection import cross_val_score\n",
    "modelAccuracies = cross_val_score(estimator=classifierObj, X=X_train, y=y_train, cv=10)\n",
    "print('K-Fold Model Accuracy: %.3f' % modelAccuracies.mean()) "
   ]
  },
  {
   "cell_type": "code",
   "execution_count": 15,
   "metadata": {},
   "outputs": [
    {
     "data": {
      "image/png": "[encoded data removed]",
      "text/plain": [
       "<Figure size 432x288 with 1 Axes>"
      ]
     },
     "metadata": {
      "needs_background": "light"
     },
     "output_type": "display_data"
    },
    {
     "name": "stdout",
     "output_type": "stream",
     "text": [
      "X_train shape after Kernel PCA:  (4692, 16)\n"
     ]
    }
   ],
   "source": [
    "#######################################  Apply Kernel PCA  ################################################\n",
    "\n",
    "#Splitting the data into Training Set and Test Set \n",
    "from sklearn.model_selection import train_test_split\n",
    "X_train, X_test, y_train, y_test = train_test_split(X_sig,y,test_size=0.3,random_state=0)\n",
    "\n",
    "#Normalizing all features that are skewed\n",
    "from sklearn.preprocessing import StandardScaler\n",
    "sc_X = StandardScaler()\n",
    "X_train[:,[2,4,6,7,8,9,10,11,12,13,14,]] = sc_X.fit_transform(X_train[:,[2,4,6,7,8,9,10,11,12,13,14,]])\n",
    "X_test[:,[2,4,6,7,8,9,10,11,12,13,14,]] = sc_X.transform(X_test[:,[2,4,6,7,8,9,10,11,12,13,14,]]) \n",
    "\n",
    "#kernel PCA\n",
    "from sklearn.decomposition import KernelPCA\n",
    "kernelPCAObj = KernelPCA(n_components=16, kernel='rbf',remove_zero_eig=True)\n",
    "X_train = kernelPCAObj.fit_transform(X_train)\n",
    "X_test = kernelPCAObj.transform(X_test)\n",
    "\n",
    "# Visualising the Test set results\n",
    "from matplotlib.colors import ListedColormap\n",
    "X_set, y_set = X_test, y_test\n",
    "for i, j in enumerate(np.unique(y_set)):\n",
    "    plt.scatter(X_set[y_set == j, 0], X_set[y_set == j, 1],\n",
    "                cmap='jet', label = j)\n",
    "plt.xlabel('Principle Component 1')\n",
    "plt.ylabel('')\n",
    "plt.legend()\n",
    "plt.show()\n",
    "print('X_train shape after Kernel PCA: ', X_train.shape)"
   ]
  },
  {
   "cell_type": "code",
   "execution_count": 16,
   "metadata": {},
   "outputs": [
    {
     "name": "stdout",
     "output_type": "stream",
     "text": [
      "\u001b[1mLogistic Regression\u001b[0m\n",
      "Misclassification Rate: 0.585 \n"
     ]
    },
    {
     "name": "stderr",
     "output_type": "stream",
     "text": [
      "C:\\Users\\Jingj\\Anaconda3\\lib\\site-packages\\sklearn\\model_selection\\_split.py:657: Warning: The least populated class in y has only 1 members, which is too few. The minimum number of members in any class cannot be less than n_splits=10.\n",
      "  % (min_groups, self.n_splits)), Warning)\n"
     ]
    },
    {
     "name": "stdout",
     "output_type": "stream",
     "text": [
      "K-Fold Model Accuracy: 0.424\n",
      "\u001b[1m\n",
      "k-NN Model\u001b[0m\n",
      "Misclassification Rate with 18 neighbors: 0.565 \n"
     ]
    },
    {
     "name": "stderr",
     "output_type": "stream",
     "text": [
      "C:\\Users\\Jingj\\Anaconda3\\lib\\site-packages\\sklearn\\model_selection\\_split.py:657: Warning: The least populated class in y has only 1 members, which is too few. The minimum number of members in any class cannot be less than n_splits=10.\n",
      "  % (min_groups, self.n_splits)), Warning)\n"
     ]
    },
    {
     "name": "stdout",
     "output_type": "stream",
     "text": [
      "K-Fold Model Accuracy: 0.424\n",
      "\u001b[1m\n",
      "SVM Model\u001b[0m\n",
      "Misclassification Rate: 0.589\n"
     ]
    },
    {
     "name": "stderr",
     "output_type": "stream",
     "text": [
      "C:\\Users\\Jingj\\Anaconda3\\lib\\site-packages\\sklearn\\model_selection\\_split.py:657: Warning: The least populated class in y has only 1 members, which is too few. The minimum number of members in any class cannot be less than n_splits=10.\n",
      "  % (min_groups, self.n_splits)), Warning)\n"
     ]
    },
    {
     "name": "stdout",
     "output_type": "stream",
     "text": [
      "K-Fold Model Accuracy: 0.406\n",
      "\u001b[1m\n",
      "Naïve Bayes model\u001b[0m\n",
      "Misclassification Rate: 0.609\n",
      "K-Fold Model Accuracy: 0.389\n",
      "\u001b[1m\n",
      "Decision Tree\u001b[0m\n"
     ]
    },
    {
     "name": "stderr",
     "output_type": "stream",
     "text": [
      "C:\\Users\\Jingj\\Anaconda3\\lib\\site-packages\\sklearn\\model_selection\\_split.py:657: Warning: The least populated class in y has only 1 members, which is too few. The minimum number of members in any class cannot be less than n_splits=10.\n",
      "  % (min_groups, self.n_splits)), Warning)\n"
     ]
    },
    {
     "name": "stdout",
     "output_type": "stream",
     "text": [
      "Misclassification Rate: 0.640 \n"
     ]
    },
    {
     "name": "stderr",
     "output_type": "stream",
     "text": [
      "C:\\Users\\Jingj\\Anaconda3\\lib\\site-packages\\sklearn\\model_selection\\_split.py:657: Warning: The least populated class in y has only 1 members, which is too few. The minimum number of members in any class cannot be less than n_splits=10.\n",
      "  % (min_groups, self.n_splits)), Warning)\n"
     ]
    },
    {
     "name": "stdout",
     "output_type": "stream",
     "text": [
      "K-Fold Model Accuracy: 0.374\n"
     ]
    }
   ],
   "source": [
    "#######################################  Logistic Regression  ################################################\n",
    "\n",
    "print(color.BOLD+'Logistic Regression'+color.END)\n",
    "#Fitting Logistic Regression to Training Set\n",
    "from sklearn.linear_model import LogisticRegression\n",
    "classifierObj = LogisticRegression(random_state=0)\n",
    "classifierObj.fit(X_train, y_train)\n",
    "\n",
    "#Find Error rate (Misclassification rate)\n",
    "print('Misclassification Rate: %.3f ' % (1-classifierObj.score(X_test,y_test)))\n",
    "\n",
    "#K-Fold Cross Validation\n",
    "from sklearn.model_selection import cross_val_score\n",
    "modelAccuracies = cross_val_score(estimator=classifierObj, X=X_train, y=y_train, cv=10)\n",
    "print('K-Fold Model Accuracy: %.3f' % modelAccuracies.mean())\n",
    "\n",
    "\n",
    "#######################################  k-NN Model  ################################################\n",
    "\n",
    "print(color.BOLD+'\\nk-NN Model'+color.END)\n",
    "#Fitting Classifier to Training Set. Create a classifier object here and call it classifierObj\n",
    "from sklearn.neighbors import KNeighborsClassifier\n",
    "classifierObj = KNeighborsClassifier(n_neighbors=14, p=2, metric='minkowski')\n",
    "classifierObj.fit(X_train, y_train)      \n",
    "\n",
    "#Find Error rate (Misclassification rate)\n",
    "print('Misclassification Rate with 18 neighbors: %.3f ' % (1-classifierObj.score(X_test,y_test)))\n",
    "\n",
    "#K-Fold Cross Validation\n",
    "from sklearn.model_selection import cross_val_score\n",
    "modelAccuracies = cross_val_score(estimator=classifierObj, X=X_train, y=y_train, cv=10)\n",
    "print('K-Fold Model Accuracy: %.3f' % modelAccuracies.mean())\n",
    "\n",
    "\n",
    "#######################################  SVM Model  ################################################\n",
    "\n",
    "print(color.BOLD+'\\nSVM Model'+color.END)\n",
    "#Fitting Classifier to Training Set. Create a classifier object here and call it classifierObj\n",
    "from sklearn.svm import SVC\n",
    "classifierObj = SVC(kernel='rbf',random_state=0)\n",
    "classifierObj.fit(X_train, y_train)\n",
    "\n",
    "#Find Error rate (Misclassification rate)\n",
    "print('Misclassification Rate: %.3f' % (1-classifierObj.score(X_test,y_test)))    # misclasification rate = 1- accuracy\n",
    "\n",
    "#K-Fold Cross Validation\n",
    "from sklearn.model_selection import cross_val_score\n",
    "modelAccuracies = cross_val_score(estimator=classifierObj, X=X_train, y=y_train, cv=10)\n",
    "print('K-Fold Model Accuracy: %.3f' % modelAccuracies.mean())\n",
    "\n",
    "\n",
    "#######################################  Naïve Bayes model  ################################################\n",
    "\n",
    "print(color.BOLD+'\\nNaïve Bayes model'+color.END)\n",
    "#Fitting Classifier to Training Set. Create a classifier object here and call it classifierObj\n",
    "from sklearn.naive_bayes import GaussianNB\n",
    "classifierObj = GaussianNB()\n",
    "classifierObj.fit(X_train, y_train)\n",
    "\n",
    "#Find Error rate (Misclassification rate)\n",
    "print('Misclassification Rate: %.3f' % (1-classifierObj.score(X_test,y_test)))    # misclasification rate = 1- accuracy\n",
    "\n",
    "#K-Fold Cross Validation\n",
    "from sklearn.model_selection import cross_val_score\n",
    "modelAccuracies = cross_val_score(estimator=classifierObj, X=X_train, y=y_train, cv=10)\n",
    "print('K-Fold Model Accuracy: %.3f' % modelAccuracies.mean())\n",
    "\n",
    "\n",
    "#######################################  Decision Tree  ################################################\n",
    "\n",
    "print(color.BOLD+'\\nDecision Tree'+color.END)\n",
    "#Fitting Classifier to Training Set. Create a classifier object here and call it classifierObj\n",
    "from sklearn.tree import DecisionTreeClassifier\n",
    "classifierObj = DecisionTreeClassifier(criterion='entropy',random_state=0)\n",
    "classifierObj.fit(X_train,y_train)\n",
    "\n",
    "#Find Error rate (Misclassification rate)\n",
    "print('Misclassification Rate: %.3f ' % (1-classifierObj.score(X_test,y_test)))\n",
    "\n",
    "#K-Fold Cross Validation\n",
    "from sklearn.model_selection import cross_val_score\n",
    "modelAccuracies = cross_val_score(estimator=classifierObj, X=X_train, y=y_train, cv=10)\n",
    "print('K-Fold Model Accuracy: %.3f' % modelAccuracies.mean())"
   ]
  },
  {
   "cell_type": "code",
   "execution_count": 17,
   "metadata": {},
   "outputs": [
    {
     "name": "stdout",
     "output_type": "stream",
     "text": [
      "\u001b[1m\n",
      "Random Forest model - Grid Search\u001b[0m\n"
     ]
    },
    {
     "name": "stderr",
     "output_type": "stream",
     "text": [
      "C:\\Users\\Jingj\\Anaconda3\\lib\\site-packages\\sklearn\\model_selection\\_split.py:657: Warning: The least populated class in y has only 1 members, which is too few. The minimum number of members in any class cannot be less than n_splits=5.\n",
      "  % (min_groups, self.n_splits)), Warning)\n"
     ]
    },
    {
     "name": "stdout",
     "output_type": "stream",
     "text": [
      "{'bootstrap': True, 'criterion': 'gini', 'n_estimators': 40}\n",
      "0.4360613810741688\n"
     ]
    }
   ],
   "source": [
    "#######################################  Random Forest - Grid Search  ################################################\n",
    "\n",
    "print(color.BOLD+'\\nRandom Forest model - Grid Search'+color.END)\n",
    "from sklearn.ensemble import RandomForestClassifier\n",
    "classifierObj = RandomForestClassifier(random_state=0)\n",
    "\n",
    "grid_param = {  \n",
    "    'n_estimators': [10, 15, 20, 25, 30, 40, 50],\n",
    "    'criterion': ['gini', 'entropy'],\n",
    "    'bootstrap': [True, False]\n",
    "}\n",
    "\n",
    "from sklearn.model_selection import GridSearchCV\n",
    "gd_sr = GridSearchCV(estimator=classifierObj, param_grid=grid_param, scoring='accuracy', cv=5, n_jobs=-1)\n",
    "gd_sr.fit(X_train, y_train) \n",
    "print(gd_sr.best_params_)  \n",
    "print(gd_sr.best_score_)"
   ]
  },
  {
   "cell_type": "code",
   "execution_count": 18,
   "metadata": {},
   "outputs": [
    {
     "name": "stdout",
     "output_type": "stream",
     "text": [
      "\u001b[1m\n",
      "Random Forest model\u001b[0m\n",
      "Misclassification Rate with 40 trees: 0.552 \n"
     ]
    },
    {
     "name": "stderr",
     "output_type": "stream",
     "text": [
      "C:\\Users\\Jingj\\Anaconda3\\lib\\site-packages\\sklearn\\model_selection\\_split.py:657: Warning: The least populated class in y has only 1 members, which is too few. The minimum number of members in any class cannot be less than n_splits=10.\n",
      "  % (min_groups, self.n_splits)), Warning)\n"
     ]
    },
    {
     "name": "stdout",
     "output_type": "stream",
     "text": [
      "K-Fold Model Accuracy: 0.436\n"
     ]
    }
   ],
   "source": [
    "#######################################  Random Forest model  ################################################\n",
    "\n",
    "print(color.BOLD+'\\nRandom Forest model'+color.END)\n",
    "#Fitting Classifier to Training Set. Create a classifier object here and call it classifierObj\n",
    "from sklearn.ensemble import RandomForestClassifier\n",
    "classifierObj = RandomForestClassifier(n_estimators= 40,criterion='gini',bootstrap='True',random_state=0)\n",
    "classifierObj.fit(X_train,y_train)\n",
    "\n",
    "#Find Error rate (Misclassification rate)\n",
    "print('Misclassification Rate with 40 trees: %.3f ' % (1-classifierObj.score(X_test,y_test)))\n",
    "\n",
    "#K-Fold Cross Validation\n",
    "from sklearn.model_selection import cross_val_score\n",
    "modelAccuracies = cross_val_score(estimator=classifierObj, X=X_train, y=y_train, cv=10)\n",
    "print('K-Fold Model Accuracy: %.3f' % modelAccuracies.mean()) "
   ]
  },
  {
   "cell_type": "code",
   "execution_count": null,
   "metadata": {},
   "outputs": [],
   "source": []
  },
  {
   "cell_type": "code",
   "execution_count": null,
   "metadata": {},
   "outputs": [],
   "source": [
    "#This is here because it would look messy if I included this in the main part\n",
    "#These are the for loops that you can use to find the optimal number of components/trees/etc\n",
    "\n",
    "#######################################  k-NN  ################################################\n",
    "x_axis = np.arange(2,21)\n",
    "y_axis = np.ones(19)\n",
    "i = 0\n",
    "\n",
    "for k in range(2,21):\n",
    "    #Fitting Classifier to Training Set. Create a classifier object here and call it classifierObj\n",
    "    from sklearn.neighbors import KNeighborsClassifier\n",
    "    classifierObj = KNeighborsClassifier(n_neighbors=k, p=2, metric='minkowski')\n",
    "    classifierObj.fit(X_train, y_train)           # Find optimal k based on train data\n",
    "\n",
    "    #Find Error rate (Misclassification rate)\n",
    "    print('%.3f ' % (1-classifierObj.score(X_test,y_test)),k, sep='\\t')    # misclasification rate = 1- accuracy\n",
    "    y_axis[i] = 1-classifierObj.score(X_test,y_test)\n",
    "    i = i+1\n",
    "\n",
    "#plot the data    \n",
    "plt.scatter(x_axis,y_axis)\n",
    "plt.title('kNN (Training set)')\n",
    "plt.xlabel('k')\n",
    "plt.ylabel('error (misclassification) rate')\n",
    "plt.show()\n",
    "\n",
    "#######################################  Random Forest model Find # trees  ################################################\n",
    "x_axis = np.arange(10,31)\n",
    "y_axis = np.ones(21)\n",
    "i = 0\n",
    "\n",
    "for trees in range(10,31):\n",
    "    #Fitting Classifier to Training Set. Create a classifier object here and call it classifierObj\n",
    "    from sklearn.ensemble import RandomForestClassifier\n",
    "    classifierObj = RandomForestClassifier(n_estimators= trees,criterion='entropy',random_state=0)\n",
    "    classifierObj.fit(X_train,y_train)\n",
    "    \n",
    "    #Making predictions on the Test Set\n",
    "    y_pred = classifierObj.predict(X_test)\n",
    "    \n",
    "    #Find Error rate (Misclassification rate)\n",
    "    print('%.4f ' % (1-classifierObj.score(X_test,y_test)), trees, sep='\\t')\n",
    "    y_axis[i] = 1-classifierObj.score(X_test,y_test)\n",
    "    i = i+1\n",
    "\n",
    "#plot the data    \n",
    "plt.scatter(x_axis,y_axis)\n",
    "plt.xlabel('trees')\n",
    "plt.ylabel('error (misclassification) rate')\n",
    "plt.show()\n"
   ]
  }
 ],
 "metadata": {
  "kernelspec": {
   "display_name": "Python 3",
   "language": "python",
   "name": "python3"
  },
  "language_info": {
   "codemirror_mode": {
    "name": "ipython",
    "version": 3
   },
   "file_extension": ".py",
   "mimetype": "text/x-python",
   "name": "python",
   "nbconvert_exporter": "python",
   "pygments_lexer": "ipython3",
   "version": "3.7.3"
  }
 },
 "nbformat": 4,
 "nbformat_minor": 2
}
